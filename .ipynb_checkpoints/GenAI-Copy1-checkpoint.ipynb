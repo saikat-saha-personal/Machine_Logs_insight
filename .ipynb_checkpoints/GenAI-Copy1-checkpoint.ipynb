{
 "cells": [
  {
   "cell_type": "code",
   "execution_count": 1,
   "metadata": {
    "colab": {
     "base_uri": "https://localhost:8080/"
    },
    "id": "I_a5tT7BUirS",
    "outputId": "f728e28d-4a1c-4707-c937-952a731d2806"
   },
   "outputs": [
    {
     "name": "stdout",
     "output_type": "stream",
     "text": [
      "Requirement already satisfied: pip in c:\\users\\saikat.saha\\miniconda3\\envs\\genai\\lib\\site-packages (24.0)\n",
      "Note: you may need to restart the kernel to use updated packages.\n",
      "Note: you may need to restart the kernel to use updated packages.\n"
     ]
    },
    {
     "name": "stderr",
     "output_type": "stream",
     "text": [
      "ERROR: Could not find a version that satisfies the requirement torch==1.13.1 (from versions: 2.0.0, 2.0.1, 2.1.0, 2.1.1, 2.1.2, 2.2.0)\n",
      "ERROR: No matching distribution found for torch==1.13.1\n"
     ]
    },
    {
     "name": "stdout",
     "output_type": "stream",
     "text": [
      "Note: you may need to restart the kernel to use updated packages.\n",
      "Note: you may need to restart the kernel to use updated packages.\n"
     ]
    }
   ],
   "source": [
    "%pip install --upgrade pip\n",
    "%pip install --disable-pip-version-check \\\n",
    "    torch==1.13.1 \\\n",
    "    torchdata==0.5.1 --quiet\n",
    "\n",
    "%pip install \\\n",
    "    accelerate==0.16.0 \\\n",
    "    transformers[torch]==4.28.1 \\\n",
    "    datasets==2.11.0 \\\n",
    "    evaluate==0.4.0 \\\n",
    "    rouge_score==0.1.2 \\\n",
    "    loralib==0.1.1 \\\n",
    "    peft==0.3.0 --quiet\n",
    "\n",
    "%pip install -q einops\n",
    "# %pip install \"accelerate>=0.16.0,<1\" \"transformers[torch]>=4.28.1,<5\" \"torch>=1.13.1,<2\"\n"
   ]
  },
  {
   "cell_type": "code",
   "execution_count": 2,
   "metadata": {
    "id": "dX_QgluqWbmN"
   },
   "outputs": [
    {
     "name": "stderr",
     "output_type": "stream",
     "text": [
      "C:\\Users\\saikat.saha\\Miniconda3\\envs\\genai\\Lib\\site-packages\\tqdm\\auto.py:21: TqdmWarning: IProgress not found. Please update jupyter and ipywidgets. See https://ipywidgets.readthedocs.io/en/stable/user_install.html\n",
      "  from .autonotebook import tqdm as notebook_tqdm\n"
     ]
    }
   ],
   "source": [
    "from datasets import load_dataset\n",
    "from transformers import AutoModelForSeq2SeqLM, AutoTokenizer,AutoModelForSequenceClassification, GenerationConfig, TrainingArguments, Trainer,AutoModelForCausalLM, pipeline\n",
    "# from instruct_pipeline import InstructionTextGenerationPipeline\n",
    "import torch\n",
    "import time\n",
    "import evaluate\n",
    "import pandas as pd\n",
    "import numpy as np\n",
    "import matplotlib.pyplot as plt\n",
    "import yaml\n",
    "\n",
    "from tqdm import tqdm\n",
    "tqdm.pandas()"
   ]
  },
  {
   "cell_type": "markdown",
   "metadata": {
    "id": "LvVN480cYaKK"
   },
   "source": [
    "# Read data"
   ]
  },
  {
   "cell_type": "code",
   "execution_count": 3,
   "metadata": {
    "colab": {
     "base_uri": "https://localhost:8080/"
    },
    "id": "jJw82bSwY_l-",
    "outputId": "ae54b34d-7683-4c7b-c376-793f30be1fab"
   },
   "outputs": [],
   "source": [
    "# from google.colab import drive\n",
    "# drive.mount('/content/drive')"
   ]
  },
  {
   "cell_type": "code",
   "execution_count": 4,
   "metadata": {
    "id": "OxuhZznbWgUK"
   },
   "outputs": [],
   "source": [
    "dataset = pd.read_excel('data/table_insights_labeled_data.xlsx', sheet_name=\"Data\")"
   ]
  },
  {
   "cell_type": "code",
   "execution_count": 5,
   "metadata": {
    "colab": {
     "base_uri": "https://localhost:8080/",
     "height": 424
    },
    "id": "ctj9VvA5dyGP",
    "outputId": "41659983-7bc0-40e3-dddb-bb18908b2caf"
   },
   "outputs": [
    {
     "data": {
      "text/html": [
       "<div>\n",
       "<style scoped>\n",
       "    .dataframe tbody tr th:only-of-type {\n",
       "        vertical-align: middle;\n",
       "    }\n",
       "\n",
       "    .dataframe tbody tr th {\n",
       "        vertical-align: top;\n",
       "    }\n",
       "\n",
       "    .dataframe thead th {\n",
       "        text-align: right;\n",
       "    }\n",
       "</style>\n",
       "<table border=\"1\" class=\"dataframe\">\n",
       "  <thead>\n",
       "    <tr style=\"text-align: right;\">\n",
       "      <th></th>\n",
       "      <th>DeviceMaskedID</th>\n",
       "      <th>data (train/ test)</th>\n",
       "      <th>date</th>\n",
       "      <th>cpu_usage</th>\n",
       "      <th>ram_usage</th>\n",
       "      <th>diskio_usage</th>\n",
       "    </tr>\n",
       "  </thead>\n",
       "  <tbody>\n",
       "    <tr>\n",
       "      <th>0</th>\n",
       "      <td>Device_1</td>\n",
       "      <td>Train</td>\n",
       "      <td>2022-08-02</td>\n",
       "      <td>7.845169</td>\n",
       "      <td>52.662081</td>\n",
       "      <td>NaN</td>\n",
       "    </tr>\n",
       "    <tr>\n",
       "      <th>1</th>\n",
       "      <td>Device_1</td>\n",
       "      <td>Train</td>\n",
       "      <td>2022-08-03</td>\n",
       "      <td>5.029416</td>\n",
       "      <td>53.519746</td>\n",
       "      <td>NaN</td>\n",
       "    </tr>\n",
       "    <tr>\n",
       "      <th>2</th>\n",
       "      <td>Device_1</td>\n",
       "      <td>Train</td>\n",
       "      <td>2022-08-04</td>\n",
       "      <td>4.855019</td>\n",
       "      <td>53.656122</td>\n",
       "      <td>NaN</td>\n",
       "    </tr>\n",
       "    <tr>\n",
       "      <th>3</th>\n",
       "      <td>Device_1</td>\n",
       "      <td>Train</td>\n",
       "      <td>2022-08-05</td>\n",
       "      <td>8.014844</td>\n",
       "      <td>55.245124</td>\n",
       "      <td>NaN</td>\n",
       "    </tr>\n",
       "    <tr>\n",
       "      <th>4</th>\n",
       "      <td>Device_1</td>\n",
       "      <td>Train</td>\n",
       "      <td>2022-08-07</td>\n",
       "      <td>16.909919</td>\n",
       "      <td>54.216115</td>\n",
       "      <td>NaN</td>\n",
       "    </tr>\n",
       "    <tr>\n",
       "      <th>...</th>\n",
       "      <td>...</td>\n",
       "      <td>...</td>\n",
       "      <td>...</td>\n",
       "      <td>...</td>\n",
       "      <td>...</td>\n",
       "      <td>...</td>\n",
       "    </tr>\n",
       "    <tr>\n",
       "      <th>5276</th>\n",
       "      <td>Device_215</td>\n",
       "      <td>Train</td>\n",
       "      <td>2022-05-25</td>\n",
       "      <td>NaN</td>\n",
       "      <td>NaN</td>\n",
       "      <td>90.005963</td>\n",
       "    </tr>\n",
       "    <tr>\n",
       "      <th>5277</th>\n",
       "      <td>Device_215</td>\n",
       "      <td>Train</td>\n",
       "      <td>2022-05-26</td>\n",
       "      <td>NaN</td>\n",
       "      <td>NaN</td>\n",
       "      <td>75.829685</td>\n",
       "    </tr>\n",
       "    <tr>\n",
       "      <th>5278</th>\n",
       "      <td>Device_215</td>\n",
       "      <td>Train</td>\n",
       "      <td>2022-05-27</td>\n",
       "      <td>NaN</td>\n",
       "      <td>NaN</td>\n",
       "      <td>88.540792</td>\n",
       "    </tr>\n",
       "    <tr>\n",
       "      <th>5279</th>\n",
       "      <td>Device_215</td>\n",
       "      <td>Train</td>\n",
       "      <td>2022-05-28</td>\n",
       "      <td>NaN</td>\n",
       "      <td>NaN</td>\n",
       "      <td>77.175451</td>\n",
       "    </tr>\n",
       "    <tr>\n",
       "      <th>5280</th>\n",
       "      <td>Device_215</td>\n",
       "      <td>Train</td>\n",
       "      <td>2022-05-29</td>\n",
       "      <td>NaN</td>\n",
       "      <td>NaN</td>\n",
       "      <td>77.522167</td>\n",
       "    </tr>\n",
       "  </tbody>\n",
       "</table>\n",
       "<p>5281 rows × 6 columns</p>\n",
       "</div>"
      ],
      "text/plain": [
       "     DeviceMaskedID data (train/ test)       date  cpu_usage  ram_usage  \\\n",
       "0          Device_1              Train 2022-08-02   7.845169  52.662081   \n",
       "1          Device_1              Train 2022-08-03   5.029416  53.519746   \n",
       "2          Device_1              Train 2022-08-04   4.855019  53.656122   \n",
       "3          Device_1              Train 2022-08-05   8.014844  55.245124   \n",
       "4          Device_1              Train 2022-08-07  16.909919  54.216115   \n",
       "...             ...                ...        ...        ...        ...   \n",
       "5276     Device_215              Train 2022-05-25        NaN        NaN   \n",
       "5277     Device_215              Train 2022-05-26        NaN        NaN   \n",
       "5278     Device_215              Train 2022-05-27        NaN        NaN   \n",
       "5279     Device_215              Train 2022-05-28        NaN        NaN   \n",
       "5280     Device_215              Train 2022-05-29        NaN        NaN   \n",
       "\n",
       "      diskio_usage  \n",
       "0              NaN  \n",
       "1              NaN  \n",
       "2              NaN  \n",
       "3              NaN  \n",
       "4              NaN  \n",
       "...            ...  \n",
       "5276     90.005963  \n",
       "5277     75.829685  \n",
       "5278     88.540792  \n",
       "5279     77.175451  \n",
       "5280     77.522167  \n",
       "\n",
       "[5281 rows x 6 columns]"
      ]
     },
     "execution_count": 5,
     "metadata": {},
     "output_type": "execute_result"
    }
   ],
   "source": [
    "dataset"
   ]
  },
  {
   "cell_type": "code",
   "execution_count": 6,
   "metadata": {
    "id": "cM6yokgEi79U"
   },
   "outputs": [],
   "source": [
    "lables = pd.read_excel('data/table_insights_labeled_data.xlsx', sheet_name=\"Labels\")"
   ]
  },
  {
   "cell_type": "code",
   "execution_count": 7,
   "metadata": {
    "colab": {
     "base_uri": "https://localhost:8080/",
     "height": 615
    },
    "id": "8Vznp_zZjD6_",
    "outputId": "1b334b88-5a90-4efc-c0b1-a619d8257426"
   },
   "outputs": [
    {
     "data": {
      "text/html": [
       "<div>\n",
       "<style scoped>\n",
       "    .dataframe tbody tr th:only-of-type {\n",
       "        vertical-align: middle;\n",
       "    }\n",
       "\n",
       "    .dataframe tbody tr th {\n",
       "        vertical-align: top;\n",
       "    }\n",
       "\n",
       "    .dataframe thead th {\n",
       "        text-align: right;\n",
       "    }\n",
       "</style>\n",
       "<table border=\"1\" class=\"dataframe\">\n",
       "  <thead>\n",
       "    <tr style=\"text-align: right;\">\n",
       "      <th></th>\n",
       "      <th>DeviceMaskedID</th>\n",
       "      <th>data (train/ test)</th>\n",
       "      <th>insight_0</th>\n",
       "      <th>insight_1</th>\n",
       "      <th>insight_2</th>\n",
       "    </tr>\n",
       "  </thead>\n",
       "  <tbody>\n",
       "    <tr>\n",
       "      <th>0</th>\n",
       "      <td>Device_1</td>\n",
       "      <td>Train</td>\n",
       "      <td>The data contains information about a computer...</td>\n",
       "      <td>1. The highest CPU usage was recorded on 222-8...</td>\n",
       "      <td>1. The diskio_usage column has no data (NaN) f...</td>\n",
       "    </tr>\n",
       "    <tr>\n",
       "      <th>1</th>\n",
       "      <td>Device_2</td>\n",
       "      <td>Train</td>\n",
       "      <td>The data contains CPU usage information for a ...</td>\n",
       "      <td>1. CPU usage has been consistently increasing ...</td>\n",
       "      <td>Based on the provided data, the top 3 aberrati...</td>\n",
       "    </tr>\n",
       "    <tr>\n",
       "      <th>2</th>\n",
       "      <td>Device_3</td>\n",
       "      <td>Train</td>\n",
       "      <td>The data contains information about a user's c...</td>\n",
       "      <td>1. The highest CPU usage was recorded on 223-3...</td>\n",
       "      <td>1. High CPU usage on 223-3-13: The CPU usage o...</td>\n",
       "    </tr>\n",
       "    <tr>\n",
       "      <th>3</th>\n",
       "      <td>Device_4</td>\n",
       "      <td>Test</td>\n",
       "      <td>The data contains information about a user's c...</td>\n",
       "      <td>1. High CPU usage days: The user experienced t...</td>\n",
       "      <td>1. Missing Data: The 'diskio_usage' column has...</td>\n",
       "    </tr>\n",
       "    <tr>\n",
       "      <th>4</th>\n",
       "      <td>Device_5</td>\n",
       "      <td>Train</td>\n",
       "      <td>The data contains information about a user's c...</td>\n",
       "      <td>1. High CPU Usage: The highest CPU usage recor...</td>\n",
       "      <td>1. Missing Data: The 'diskio_usage' column has...</td>\n",
       "    </tr>\n",
       "    <tr>\n",
       "      <th>...</th>\n",
       "      <td>...</td>\n",
       "      <td>...</td>\n",
       "      <td>...</td>\n",
       "      <td>...</td>\n",
       "      <td>...</td>\n",
       "    </tr>\n",
       "    <tr>\n",
       "      <th>210</th>\n",
       "      <td>Device_211</td>\n",
       "      <td>Train</td>\n",
       "      <td>The data contains information about a user's c...</td>\n",
       "      <td>1. High RAM Usage: The RAM usage is consistent...</td>\n",
       "      <td>1. Highest CPU usage: On 223-3-1, the CPU usag...</td>\n",
       "    </tr>\n",
       "    <tr>\n",
       "      <th>211</th>\n",
       "      <td>Device_212</td>\n",
       "      <td>Train</td>\n",
       "      <td>The data contains information about a user's c...</td>\n",
       "      <td>1. Significant increase in resource usage towa...</td>\n",
       "      <td>1. There is a significant increase in CPU usag...</td>\n",
       "    </tr>\n",
       "    <tr>\n",
       "      <th>212</th>\n",
       "      <td>Device_213</td>\n",
       "      <td>Test</td>\n",
       "      <td>The data contains information about a user's c...</td>\n",
       "      <td>1. Highest CPU usage: The highest CPU usage wa...</td>\n",
       "      <td>1. Missing Data: The 'diskio_usage' column has...</td>\n",
       "    </tr>\n",
       "    <tr>\n",
       "      <th>213</th>\n",
       "      <td>Device_214</td>\n",
       "      <td>Train</td>\n",
       "      <td>The data contains daily disk IO usage for a co...</td>\n",
       "      <td>1. The highest disk IO usage was recorded on 1...</td>\n",
       "      <td>After analyzing the dataset, the top 3 aberrat...</td>\n",
       "    </tr>\n",
       "    <tr>\n",
       "      <th>214</th>\n",
       "      <td>Device_215</td>\n",
       "      <td>Train</td>\n",
       "      <td>The data contains information about a user's d...</td>\n",
       "      <td>1. Increasing Trend: The disk IO usage for the...</td>\n",
       "      <td>Based on the provided data, the top 3 aberrati...</td>\n",
       "    </tr>\n",
       "  </tbody>\n",
       "</table>\n",
       "<p>215 rows × 5 columns</p>\n",
       "</div>"
      ],
      "text/plain": [
       "    DeviceMaskedID data (train/ test)  \\\n",
       "0         Device_1              Train   \n",
       "1         Device_2              Train   \n",
       "2         Device_3              Train   \n",
       "3         Device_4               Test   \n",
       "4         Device_5              Train   \n",
       "..             ...                ...   \n",
       "210     Device_211              Train   \n",
       "211     Device_212              Train   \n",
       "212     Device_213               Test   \n",
       "213     Device_214              Train   \n",
       "214     Device_215              Train   \n",
       "\n",
       "                                             insight_0  \\\n",
       "0    The data contains information about a computer...   \n",
       "1    The data contains CPU usage information for a ...   \n",
       "2    The data contains information about a user's c...   \n",
       "3    The data contains information about a user's c...   \n",
       "4    The data contains information about a user's c...   \n",
       "..                                                 ...   \n",
       "210  The data contains information about a user's c...   \n",
       "211  The data contains information about a user's c...   \n",
       "212  The data contains information about a user's c...   \n",
       "213  The data contains daily disk IO usage for a co...   \n",
       "214  The data contains information about a user's d...   \n",
       "\n",
       "                                             insight_1  \\\n",
       "0    1. The highest CPU usage was recorded on 222-8...   \n",
       "1    1. CPU usage has been consistently increasing ...   \n",
       "2    1. The highest CPU usage was recorded on 223-3...   \n",
       "3    1. High CPU usage days: The user experienced t...   \n",
       "4    1. High CPU Usage: The highest CPU usage recor...   \n",
       "..                                                 ...   \n",
       "210  1. High RAM Usage: The RAM usage is consistent...   \n",
       "211  1. Significant increase in resource usage towa...   \n",
       "212  1. Highest CPU usage: The highest CPU usage wa...   \n",
       "213  1. The highest disk IO usage was recorded on 1...   \n",
       "214  1. Increasing Trend: The disk IO usage for the...   \n",
       "\n",
       "                                             insight_2  \n",
       "0    1. The diskio_usage column has no data (NaN) f...  \n",
       "1    Based on the provided data, the top 3 aberrati...  \n",
       "2    1. High CPU usage on 223-3-13: The CPU usage o...  \n",
       "3    1. Missing Data: The 'diskio_usage' column has...  \n",
       "4    1. Missing Data: The 'diskio_usage' column has...  \n",
       "..                                                 ...  \n",
       "210  1. Highest CPU usage: On 223-3-1, the CPU usag...  \n",
       "211  1. There is a significant increase in CPU usag...  \n",
       "212  1. Missing Data: The 'diskio_usage' column has...  \n",
       "213  After analyzing the dataset, the top 3 aberrat...  \n",
       "214  Based on the provided data, the top 3 aberrati...  \n",
       "\n",
       "[215 rows x 5 columns]"
      ]
     },
     "execution_count": 7,
     "metadata": {},
     "output_type": "execute_result"
    }
   ],
   "source": [
    "lables"
   ]
  },
  {
   "cell_type": "code",
   "execution_count": 9,
   "metadata": {
    "id": "vC_2NtkJjFZj"
   },
   "outputs": [],
   "source": [
    "data_dictionary = pd.read_excel('data/table_insights_labeled_data.xlsx', sheet_name=\"Data dictionary\")"
   ]
  },
  {
   "cell_type": "code",
   "execution_count": 10,
   "metadata": {
    "colab": {
     "base_uri": "https://localhost:8080/"
    },
    "id": "k5MI5GbijLh-",
    "outputId": "8e33ea1c-7fd7-4d8a-f4df-8e8bf1608de4"
   },
   "outputs": [
    {
     "data": {
      "text/plain": [
       "Index(['DeviceMaskedID', 'data (train/ test)', 'date', 'cpu_usage',\n",
       "       'ram_usage', 'diskio_usage'],\n",
       "      dtype='object')"
      ]
     },
     "execution_count": 10,
     "metadata": {},
     "output_type": "execute_result"
    }
   ],
   "source": [
    "dataset.columns"
   ]
  },
  {
   "cell_type": "markdown",
   "metadata": {
    "id": "i8lc2kUMkThK"
   },
   "source": [
    "### Split train and test data"
   ]
  },
  {
   "cell_type": "code",
   "execution_count": 11,
   "metadata": {
    "colab": {
     "base_uri": "https://localhost:8080/"
    },
    "id": "PG1lTeJFjUal",
    "outputId": "69a06560-13fc-4d8c-8008-409f90b13dc9"
   },
   "outputs": [
    {
     "data": {
      "text/plain": [
       "array(['Train', 'Test'], dtype=object)"
      ]
     },
     "execution_count": 11,
     "metadata": {},
     "output_type": "execute_result"
    }
   ],
   "source": [
    "dataset[\"data (train/ test)\"].unique()"
   ]
  },
  {
   "cell_type": "code",
   "execution_count": 12,
   "metadata": {
    "colab": {
     "base_uri": "https://localhost:8080/"
    },
    "id": "1F1NKDaYjZRw",
    "outputId": "2b7eef3a-1736-45a7-9481-324c54c4c17f"
   },
   "outputs": [
    {
     "data": {
      "text/plain": [
       "data (train/ test)\n",
       "Train    4288\n",
       "Test      993\n",
       "Name: count, dtype: int64"
      ]
     },
     "execution_count": 12,
     "metadata": {},
     "output_type": "execute_result"
    }
   ],
   "source": [
    "dataset[\"data (train/ test)\"].value_counts()"
   ]
  },
  {
   "cell_type": "code",
   "execution_count": 13,
   "metadata": {
    "id": "j7y8cse7jx-A"
   },
   "outputs": [],
   "source": [
    "train = dataset.loc[dataset[\"data (train/ test)\"] == \"Train\"]"
   ]
  },
  {
   "cell_type": "code",
   "execution_count": 14,
   "metadata": {
    "id": "kldxX9cDj89k"
   },
   "outputs": [],
   "source": [
    "test = dataset.loc[dataset[\"data (train/ test)\"] == \"Train\"]"
   ]
  },
  {
   "cell_type": "markdown",
   "metadata": {
    "id": "xkNK92HikddF"
   },
   "source": [
    "# EDA"
   ]
  },
  {
   "cell_type": "code",
   "execution_count": 15,
   "metadata": {
    "colab": {
     "base_uri": "https://localhost:8080/"
    },
    "id": "aGm_wEojk8kz",
    "outputId": "307aab26-8aed-4a50-d143-680ace983f6c"
   },
   "outputs": [
    {
     "data": {
      "text/plain": [
       "DeviceMaskedID                object\n",
       "data (train/ test)            object\n",
       "date                  datetime64[ns]\n",
       "cpu_usage                    float64\n",
       "ram_usage                    float64\n",
       "diskio_usage                 float64\n",
       "dtype: object"
      ]
     },
     "execution_count": 15,
     "metadata": {},
     "output_type": "execute_result"
    }
   ],
   "source": [
    "train.dtypes"
   ]
  },
  {
   "cell_type": "code",
   "execution_count": 16,
   "metadata": {
    "colab": {
     "base_uri": "https://localhost:8080/"
    },
    "id": "FRs9p2OdkGg7",
    "outputId": "4a42c46e-cabb-4e86-99bf-1dfbc27542e9"
   },
   "outputs": [
    {
     "data": {
      "text/plain": [
       "172"
      ]
     },
     "execution_count": 16,
     "metadata": {},
     "output_type": "execute_result"
    }
   ],
   "source": [
    "train[\"DeviceMaskedID\"].nunique()"
   ]
  },
  {
   "cell_type": "code",
   "execution_count": 17,
   "metadata": {
    "colab": {
     "base_uri": "https://localhost:8080/"
    },
    "id": "B8kVXpYDkl62",
    "outputId": "7bc9b782-6480-4e05-a13a-1a41fde239dc"
   },
   "outputs": [
    {
     "data": {
      "text/plain": [
       "172"
      ]
     },
     "execution_count": 17,
     "metadata": {},
     "output_type": "execute_result"
    }
   ],
   "source": [
    "test[\"DeviceMaskedID\"].nunique()"
   ]
  },
  {
   "cell_type": "markdown",
   "metadata": {
    "id": "2iugP-_wkvdL"
   },
   "source": [
    "We have 172 devices"
   ]
  },
  {
   "cell_type": "code",
   "execution_count": 18,
   "metadata": {
    "colab": {
     "base_uri": "https://localhost:8080/"
    },
    "id": "mjHz7iSpkyRn",
    "outputId": "66fc16c5-a3f5-4dda-8c49-f471e4b5f37f"
   },
   "outputs": [
    {
     "data": {
      "text/plain": [
       "298"
      ]
     },
     "execution_count": 18,
     "metadata": {},
     "output_type": "execute_result"
    }
   ],
   "source": [
    "train[\"date\"].nunique()"
   ]
  },
  {
   "cell_type": "code",
   "execution_count": 19,
   "metadata": {
    "colab": {
     "base_uri": "https://localhost:8080/"
    },
    "id": "L5mfBjoyk5VH",
    "outputId": "e6b3aa49-dc49-4b9b-d8bc-022e501db494"
   },
   "outputs": [
    {
     "data": {
      "text/plain": [
       "Timestamp('2023-03-31 00:00:00')"
      ]
     },
     "execution_count": 19,
     "metadata": {},
     "output_type": "execute_result"
    }
   ],
   "source": [
    "train[\"date\"].max()"
   ]
  },
  {
   "cell_type": "code",
   "execution_count": 20,
   "metadata": {
    "colab": {
     "base_uri": "https://localhost:8080/"
    },
    "id": "qdgjtHtzlKpU",
    "outputId": "cbcc71c8-38a5-49ba-8bb7-73731b932aec"
   },
   "outputs": [
    {
     "data": {
      "text/plain": [
       "Timestamp('2022-01-02 00:00:00')"
      ]
     },
     "execution_count": 20,
     "metadata": {},
     "output_type": "execute_result"
    }
   ],
   "source": [
    "train[\"date\"].min()"
   ]
  },
  {
   "cell_type": "markdown",
   "metadata": {
    "id": "lQrnYnGRlOf6"
   },
   "source": [
    "We have data from 2nd January, 2022 to 31st March, 2023"
   ]
  },
  {
   "cell_type": "code",
   "execution_count": 21,
   "metadata": {
    "colab": {
     "base_uri": "https://localhost:8080/",
     "height": 447
    },
    "id": "mvv2sCMDlMiD",
    "outputId": "7ca9b827-84ef-46d1-a891-850dc0fad400"
   },
   "outputs": [
    {
     "data": {
      "text/plain": [
       "<BarContainer object of 4288 artists>"
      ]
     },
     "execution_count": 21,
     "metadata": {},
     "output_type": "execute_result"
    },
    {
     "data": {
      "image/png": "[encoded data removed]",
      "text/plain": [
       "<Figure size 640x480 with 1 Axes>"
      ]
     },
     "metadata": {},
     "output_type": "display_data"
    }
   ],
   "source": [
    "plt.bar(train[\"date\"], train[\"ram_usage\"], align='center') # A bar chart"
   ]
  },
  {
   "cell_type": "code",
   "execution_count": 22,
   "metadata": {
    "colab": {
     "base_uri": "https://localhost:8080/",
     "height": 447
    },
    "id": "I3xYGmtEloWL",
    "outputId": "f2f2cbfd-58e4-4ad4-9043-f2cf0c51d29b"
   },
   "outputs": [
    {
     "data": {
      "text/plain": [
       "<BarContainer object of 4288 artists>"
      ]
     },
     "execution_count": 22,
     "metadata": {},
     "output_type": "execute_result"
    },
    {
     "data": {
      "image/png": "[encoded data removed]",
      "text/plain": [
       "<Figure size 640x480 with 1 Axes>"
      ]
     },
     "metadata": {},
     "output_type": "display_data"
    }
   ],
   "source": [
    "plt.bar(train[\"date\"], train[\"cpu_usage\"], align='center') # A bar chart"
   ]
  },
  {
   "cell_type": "markdown",
   "metadata": {
    "id": "WFzHqcsnm4He"
   },
   "source": []
  },
  {
   "cell_type": "markdown",
   "metadata": {
    "id": "lsdFutmRAKVq"
   },
   "source": [
    "Loading the Flan-t5-model"
   ]
  },
  {
   "cell_type": "code",
   "execution_count": 23,
   "metadata": {
    "colab": {
     "base_uri": "https://localhost:8080/",
     "height": 365,
     "referenced_widgets": [
      "44f8d24b71684732b74831eb90fb6536",
      "ad826714bb77435293b4f6b49b10821e",
      "274e454d16c54d1593bba7cf799af005",
      "5805f377148f41c288ee5782abb14dda",
      "6e114d72b74848008dc4972805abb6b9",
      "88a15762b1d54bc49f2599aef0986395",
      "6802da82dd5b4ca3a2c8279441bcb4e7",
      "d11b0d47016b4cc09348474d9a990724",
      "3ed6c24f96d14736a026e2d733d00af1",
      "1b8c5abe1230498d8c38e3b04aefefa9",
      "ec0d82aafd164f519937e8686e94e1c6",
      "424ffe75aebf42b3a457715d9be29d77",
      "ff29014a35b843fea3abe6b3a943d3bc",
      "d07daf91f7a6453bb881617adaf01c54",
      "4f0c00a97ddb4c1c96eabb108656492a",
      "e770cd0f4e954104924235a5e394fc7f",
      "7ff283633b43443d92f66f9e13ce7ce6",
      "5eee05c200bf41a1af1063dc6af4315d",
      "81c5d00a6a94496382687659a7359428",
      "c7ba71801faf4b7f8ce23985cb4bfbc4",
      "b32aa0a5cff341e3b395216a9acb98be",
      "a20a9c871ec146c78e054ede0d94f8fe",
      "1345123c5ff648b593f98b4421c4da6e",
      "443b257cd7a34266b520511d78e3528a",
      "68f6acf5f1dd445b9acfddd33e3f6688",
      "dc8fa9e11d8243ca80b92301341793dd",
      "014271a816ae4911a83cfc70b1209ffc",
      "f1de24a3118b4a8d91143d64b78f2640",
      "711b3bd0f57b40fcbaae89fb982b9661",
      "200b92e13f5449dcb3ab5fe9144c543e",
      "6f2e1b84064e47c48d4ef1d48a47690d",
      "0ab843cecc1849bea8f013852c7c6756",
      "c2b305e5b47a437e93983dfbf3d9aa0a",
      "4fd2737d8a72459d9805c73838466327",
      "91199e5210bb44b88d5305eecc3239fe",
      "d926196ae4324ac9a2ade3a5040b7512",
      "f27abe1313904ba3907ccb01155d9fcb",
      "8cf13f27b935454a896ad20dbcef311c",
      "944c1df6378d46fd8e3ee3e7111e436d",
      "0c38985ebc16453f8f28f187bb70d4d5",
      "a947518e6b754b5d8477b9fc9a64dfd9",
      "7c973882a8754a3db5c93d9c805f6a33",
      "e335407d06214bf2978e3b68fe216ed7",
      "65f53194293b46c0a39de7e085603fe2",
      "0634d768792d4dc5a4f456517f373fa2",
      "75b1ad188a294b9cb6a5973bce0ab92f",
      "1751a19fda4848ef82e39940cf610180",
      "b74e069784a74fe784c5ddd79c3becda",
      "c8939459ad744b3f9fbe45f37872acc1",
      "7da00253f7fd4da0917cbae726c7eb0d",
      "699b9e3ba90f404eb498d83174266299",
      "7d5d428742e240f58319bc3cd8e06a0f",
      "9ae571fdf1014acea6874067e2771a41",
      "b10b86b7c8084600a6783f5bc54ad161",
      "efaa7ee898b542198e131661be48c173",
      "f397779852d1451da3763fb482d5f728",
      "360f4832873d48449ed78b411ddba64d",
      "3ed9c24ff54c4077aba491b0dc857c2a",
      "13f9414ab57c4bb18950bd303423796f",
      "e3176d7bcfb04d11beb134d5d23d9512",
      "333ca220cad24ad392e1ba4b58400b73",
      "8f7d1b2ac321463b8ef01c7d9b3096fd",
      "c8e2eb5c12c545969b7aa01ada547646",
      "929483fb708546d990a844ab10010df4",
      "8b68e6ef6df4489f8737e62efe22967b",
      "827e770310e94035a84c22c8343c043c",
      "0559309636744174a77a16cd9bdd48de",
      "d631112412b049dca363cc5f53bce4ac",
      "3a15c3f3c36a44f8b7c5a3008a53aeae",
      "f52b8b0b78924dd18f586de30bfc5c1a",
      "8ff8e65979b94c0f9780ea66ad6b302b",
      "c918ee95d83d4f468731ed7f037b5f8c",
      "5e2af3e18f984bc1add24891a469fd7e",
      "2ff4be85ffec492daf9a78df5f60de2c",
      "91d73d6b6f874c00909903c8f3d1fe36",
      "08cd44d5e26643878fe10af16251ec0b",
      "9bf1d096c0724b799c897fa91cccffec"
     ]
    },
    "id": "tcHV8r9_mhMs",
    "outputId": "1d39e8db-a1fe-47b1-d728-a2aaeccd6383"
   },
   "outputs": [
    {
     "name": "stderr",
     "output_type": "stream",
     "text": [
      "config.json: 100%|█████████████████████████████████████████████████████████████████████████████████████| 1.40k/1.40k [00:00<?, ?B/s]\n",
      "C:\\Users\\saikat.saha\\Miniconda3\\envs\\genai\\Lib\\site-packages\\huggingface_hub\\file_download.py:149: UserWarning: `huggingface_hub` cache-system uses symlinks by default to efficiently store duplicated files but your machine does not support them in C:\\Users\\saikat.saha\\.cache\\huggingface\\hub\\models--google--flan-t5-base. Caching files will still work but in a degraded version that might require more space on your disk. This warning can be disabled by setting the `HF_HUB_DISABLE_SYMLINKS_WARNING` environment variable. For more details, see https://huggingface.co/docs/huggingface_hub/how-to-cache#limitations.\n",
      "To support symlinks on Windows, you either need to activate Developer Mode or to run Python as an administrator. In order to see activate developer mode, see this article: https://docs.microsoft.com/en-us/windows/apps/get-started/enable-your-device-for-development\n",
      "  warnings.warn(message)\n",
      "pytorch_model.bin: 100%|█████████████████████████████████████████████████████████████████████████| 990M/990M [03:40<00:00, 4.49MB/s]\n",
      "generation_config.json: 100%|██████████████████████████████████████████████████████████████████████████████| 147/147 [00:00<?, ?B/s]\n",
      "tokenizer_config.json: 100%|███████████████████████████████████████████████████████████████████████████| 2.54k/2.54k [00:00<?, ?B/s]\n",
      "spiece.model: 100%|██████████████████████████████████████████████████████████████████████████████| 792k/792k [00:00<00:00, 5.34MB/s]\n",
      "tokenizer.json: 100%|██████████████████████████████████████████████████████████████████████████| 2.42M/2.42M [00:01<00:00, 1.85MB/s]\n",
      "special_tokens_map.json: 100%|█████████████████████████████████████████████████████████████████████████| 2.20k/2.20k [00:00<?, ?B/s]\n"
     ]
    }
   ],
   "source": [
    "model_name='google/flan-t5-base'\n",
    "# model_name='/kaggle/input/flan-t5/pytorch/base/4'\n",
    "original_model = AutoModelForSeq2SeqLM.from_pretrained(model_name, torch_dtype=torch.bfloat16)\n",
    "tokenizer = AutoTokenizer.from_pretrained(model_name)"
   ]
  },
  {
   "cell_type": "code",
   "execution_count": 24,
   "metadata": {
    "colab": {
     "base_uri": "https://localhost:8080/"
    },
    "id": "hXROmIgqATSw",
    "outputId": "eb0eca9d-52f4-4faf-f83c-587eeba97080"
   },
   "outputs": [
    {
     "name": "stdout",
     "output_type": "stream",
     "text": [
      "trainable model parameters: 247577856\n",
      "all model parameters: 247577856\n",
      "percentage of trainable model parameters: 100.00%\n"
     ]
    }
   ],
   "source": [
    "def print_number_of_trainable_model_parameters(model):\n",
    "    trainable_model_params = 0\n",
    "    all_model_params = 0\n",
    "    for _, param in model.named_parameters():\n",
    "        all_model_params += param.numel()\n",
    "        if param.requires_grad:\n",
    "            trainable_model_params += param.numel()\n",
    "    return f\"trainable model parameters: {trainable_model_params}\\nall model parameters: {all_model_params}\\npercentage of trainable model parameters: {100 * trainable_model_params / all_model_params:.2f}%\"\n",
    "\n",
    "print(print_number_of_trainable_model_parameters(original_model))"
   ]
  },
  {
   "cell_type": "code",
   "execution_count": 25,
   "metadata": {
    "id": "4gY05oxh2FHr"
   },
   "outputs": [],
   "source": [
    "\n",
    "from datetime import datetime"
   ]
  },
  {
   "cell_type": "code",
   "execution_count": 26,
   "metadata": {
    "colab": {
     "base_uri": "https://localhost:8080/"
    },
    "id": "hUiC4IyTAdvC",
    "outputId": "344256e7-39db-4039-c827-8ceee081671b"
   },
   "outputs": [
    {
     "name": "stdout",
     "output_type": "stream",
     "text": [
      "<class 'str'>\n",
      "On 2022-08-02 cpu usage is 7.84516915526048 and ram usage is 52.6620808195614 . On 2022-08-03 cpu usage is 5.02941556593283 and ram usage is 53.519745916904 . On 2022-08-04 cpu usage is 4.85501938264619 and ram usage is 53.656121666156 . On 2022-08-05 cpu usage is 8.01484371772437 and ram usage is 55.2451243255464 . On 2022-08-07 cpu usage is 16.9099194876461 and ram usage is 54.2161153949596 . On 2022-08-08 cpu usage is 6.96914070717627 and ram usage is 59.4594977502327 . On 2022-08-09 cpu usage is 6.9463629232628 and ram usage is 62.0097597810484 . On 2022-08-10 cpu usage is 6.91031942558732 and ram usage is 62.3286668313995 . On 2022-08-11 cpu usage is 6.81360165658951 and ram usage is 61.5231602577405 . On 2022-08-12 cpu usage is 7.500654360504 and ram usage is 63.4020783419131 . On 2022-08-15 cpu usage is 5.92541148819432 and ram usage is 64.4270597762686 . On 2022-08-16 cpu usage is 9.35524524929937 and ram usage is 60.2811410366103 . On 2022-08-17 cpu usage is 9.71702205283844 and ram usage is 63.6702407239885 . On 2022-08-18 cpu usage is 4.67768173958076 and ram usage is 62.1774406579293 . On 2022-08-21 cpu usage is 7.81125552851396 and ram usage is 66.83214754249 . On 2022-08-22 cpu usage is 7.44068291716472 and ram usage is 58.7288181033878 . On 2022-08-23 cpu usage is 7.17232755853331 and ram usage is 66.3130047857699 . On 2022-08-24 cpu usage is 7.60521516687787 and ram usage is 67.3382414682827 . On 2022-08-25 cpu usage is 6.90116288683816 and ram usage is 64.972101777235 . On 2022-08-26 cpu usage is 6.52663606118457 and ram usage is 72.0268476433404 . On 2022-08-28 cpu usage is 6.56655630778782 and ram usage is 68.3415148793839 . On 2022-08-29 cpu usage is 10.4592502610211 and ram usage is 67.4112056615766 . On 2022-08-30 cpu usage is 8.66719717365249 and ram usage is 63.2078034042143 . On 2022-08-31 cpu usage is 5.51382641255102 and ram usage is 64.8824390579922 . \n"
     ]
    }
   ],
   "source": [
    "# print(train[\"DeviceMaskedID\"].unique())\n",
    "for device_id in train[\"DeviceMaskedID\"].unique():\n",
    "  df = train.loc[train[\"DeviceMaskedID\"]==device_id]\n",
    "  df = df.loc[:, ~df.columns.isin([\"DeviceMaskedID\", \"data (train/ test)\"])]\n",
    "  df[\"date\"] = df[\"date\"].dt.strftime('%Y-%m-%d')\n",
    "  df = df.fillna(\"\")\n",
    "  ## Json type\n",
    "  # df_str = df.to_json(orient=\"index\")\n",
    "\n",
    "  # YAML type\n",
    "  # df_str = yaml.dump(\n",
    "  #   df.reset_index().to_dict(orient='records'),\n",
    "  #   sort_keys=False, width=72, indent=4,\n",
    "  #   default_flow_style=None)\n",
    "\n",
    "  # paragraph type\n",
    "  # for index, row in df.iterrows():\n",
    "  df_str = \"\"\n",
    "  for ind in df.index:\n",
    "    df_str =  f\"{df_str}On {df['date'][ind]} cpu usage is {df['cpu_usage'][ind]} and ram usage is {df['ram_usage'][ind]} {'and diskio_usage is ' + str(df['diskio_usage'][ind]) if df['diskio_usage'][ind] else ''}. \"\n",
    "\n",
    "  print(type(df_str))\n",
    "  print(df_str)\n",
    "\n",
    "  # prompt = f\"\"\"\n",
    "  # Summarize the following table data.\n",
    "\n",
    "  # {df_str}\n",
    "\n",
    "  # Summary:\n",
    "  # \"\"\"\n",
    "\n",
    "  # inputs = tokenizer(prompt, return_tensors='pt')\n",
    "  # output = tokenizer.decode(\n",
    "  #     original_model.generate(\n",
    "  #         inputs[\"input_ids\"],\n",
    "  #         max_new_tokens=200,\n",
    "  #     )[0],\n",
    "  #     skip_special_tokens=True\n",
    "  # )\n",
    "\n",
    "  # dash_line = '-'.join('' for x in range(100))\n",
    "  # print(dash_line)\n",
    "  # print(f'INPUT PROMPT:\\n{prompt}')\n",
    "  # print(dash_line)\n",
    "  # print(f'MODEL GENERATION - ZERO SHOT:\\n{output}')\n",
    "  break"
   ]
  },
  {
   "cell_type": "markdown",
   "metadata": {
    "id": "wR328dpj8x0B"
   },
   "source": [
    "Dolly model"
   ]
  },
  {
   "cell_type": "code",
   "execution_count": 27,
   "metadata": {
    "id": "xoGuTF5e8vpk"
   },
   "outputs": [],
   "source": [
    "model_name='databricks/dolly-v2-3b'\n",
    "# original_model = AutoModelForSeq2SeqLM.from_pretrained(model_name, torch_dtype=torch.bfloat16)\n",
    "# tokenizer = AutoTokenizer.from_pretrained(model_name)"
   ]
  },
  {
   "cell_type": "code",
   "execution_count": 28,
   "metadata": {
    "colab": {
     "base_uri": "https://localhost:8080/",
     "height": 193
    },
    "id": "4QUonidC9Dx-",
    "outputId": "79cf80b0-4f5f-4a04-dc50-96c69aad76bc"
   },
   "outputs": [
    {
     "name": "stderr",
     "output_type": "stream",
     "text": [
      "tokenizer_config.json: 100%|███████████████████████████████████████████████████████████████████████| 450/450 [00:00<00:00, 28.9kB/s]\n",
      "C:\\Users\\saikat.saha\\Miniconda3\\envs\\genai\\Lib\\site-packages\\huggingface_hub\\file_download.py:149: UserWarning: `huggingface_hub` cache-system uses symlinks by default to efficiently store duplicated files but your machine does not support them in C:\\Users\\saikat.saha\\.cache\\huggingface\\hub\\models--databricks--dolly-v2-3b. Caching files will still work but in a degraded version that might require more space on your disk. This warning can be disabled by setting the `HF_HUB_DISABLE_SYMLINKS_WARNING` environment variable. For more details, see https://huggingface.co/docs/huggingface_hub/how-to-cache#limitations.\n",
      "To support symlinks on Windows, you either need to activate Developer Mode or to run Python as an administrator. In order to see activate developer mode, see this article: https://docs.microsoft.com/en-us/windows/apps/get-started/enable-your-device-for-development\n",
      "  warnings.warn(message)\n",
      "tokenizer.json: 100%|██████████████████████████████████████████████████████████████████████████| 2.11M/2.11M [00:01<00:00, 1.89MB/s]\n",
      "special_tokens_map.json: 100%|█████████████████████████████████████████████████████████████████████████████| 228/228 [00:00<?, ?B/s]\n",
      "config.json: 100%|█████████████████████████████████████████████████████████████████████████████████████████| 819/819 [00:00<?, ?B/s]\n",
      "pytorch_model.bin: 100%|███████████████████████████████████████████████████████████████████████| 5.68G/5.68G [20:48<00:00, 4.55MB/s]\n"
     ]
    }
   ],
   "source": [
    "tokenizer = AutoTokenizer.from_pretrained(model_name)\n",
    "model = AutoModelForCausalLM.from_pretrained(model_name, torch_dtype=torch.bfloat16)\n"
   ]
  },
  {
   "cell_type": "code",
   "execution_count": null,
   "metadata": {
    "colab": {
     "base_uri": "https://localhost:8080/",
     "height": 245
    },
    "id": "I8BBMw-N8gKl",
    "outputId": "888d1291-716a-44da-d30a-2c6cafdcf114"
   },
   "outputs": [
    {
     "name": "stdout",
     "output_type": "stream",
     "text": [
      "<class 'str'>\n",
      "On 2022-08-02 cpu usage is 7.84516915526048 and ram usage is 52.6620808195614 . On 2022-08-03 cpu usage is 5.02941556593283 and ram usage is 53.519745916904 . On 2022-08-04 cpu usage is 4.85501938264619 and ram usage is 53.656121666156 . On 2022-08-05 cpu usage is 8.01484371772437 and ram usage is 55.2451243255464 . On 2022-08-07 cpu usage is 16.9099194876461 and ram usage is 54.2161153949596 . On 2022-08-08 cpu usage is 6.96914070717627 and ram usage is 59.4594977502327 . On 2022-08-09 cpu usage is 6.9463629232628 and ram usage is 62.0097597810484 . On 2022-08-10 cpu usage is 6.91031942558732 and ram usage is 62.3286668313995 . On 2022-08-11 cpu usage is 6.81360165658951 and ram usage is 61.5231602577405 . On 2022-08-12 cpu usage is 7.500654360504 and ram usage is 63.4020783419131 . On 2022-08-15 cpu usage is 5.92541148819432 and ram usage is 64.4270597762686 . On 2022-08-16 cpu usage is 9.35524524929937 and ram usage is 60.2811410366103 . On 2022-08-17 cpu usage is 9.71702205283844 and ram usage is 63.6702407239885 . On 2022-08-18 cpu usage is 4.67768173958076 and ram usage is 62.1774406579293 . On 2022-08-21 cpu usage is 7.81125552851396 and ram usage is 66.83214754249 . On 2022-08-22 cpu usage is 7.44068291716472 and ram usage is 58.7288181033878 . On 2022-08-23 cpu usage is 7.17232755853331 and ram usage is 66.3130047857699 . On 2022-08-24 cpu usage is 7.60521516687787 and ram usage is 67.3382414682827 . On 2022-08-25 cpu usage is 6.90116288683816 and ram usage is 64.972101777235 . On 2022-08-26 cpu usage is 6.52663606118457 and ram usage is 72.0268476433404 . On 2022-08-28 cpu usage is 6.56655630778782 and ram usage is 68.3415148793839 . On 2022-08-29 cpu usage is 10.4592502610211 and ram usage is 67.4112056615766 . On 2022-08-30 cpu usage is 8.66719717365249 and ram usage is 63.2078034042143 . On 2022-08-31 cpu usage is 5.51382641255102 and ram usage is 64.8824390579922 . \n"
     ]
    }
   ],
   "source": [
    "# print(train[\"DeviceMaskedID\"].unique())\n",
    "for device_id in train[\"DeviceMaskedID\"].unique():\n",
    "  df = train.loc[train[\"DeviceMaskedID\"]==device_id]\n",
    "  df = df.loc[:, ~df.columns.isin([\"DeviceMaskedID\", \"data (train/ test)\"])]\n",
    "  df[\"date\"] = df[\"date\"].dt.strftime('%Y-%m-%d')\n",
    "  df = df.fillna(\"\")\n",
    "  ## Json type\n",
    "  # df_str = df.to_json(orient=\"index\")\n",
    "\n",
    "  # YAML type\n",
    "  # df_str = yaml.dump(\n",
    "  #   df.reset_index().to_dict(orient='records'),\n",
    "  #   sort_keys=False, width=72, indent=4,\n",
    "  #   default_flow_style=None)\n",
    "\n",
    "  # paragraph type\n",
    "  # for index, row in df.iterrows():\n",
    "  df_str = \"\"\n",
    "  for ind in df.index:\n",
    "    df_str =  f\"{df_str}On {df['date'][ind]} cpu usage is {df['cpu_usage'][ind]} and ram usage is {df['ram_usage'][ind]} {'and diskio_usage is ' + str(df['diskio_usage'][ind]) if df['diskio_usage'][ind] else ''}. \"\n",
    "\n",
    "  print(type(df_str))\n",
    "  print(df_str)\n",
    "\n",
    "  prompt = f\"\"\"\n",
    "  Summarize the following table data.\n",
    "\n",
    "  {df_str}\n",
    "\n",
    "  Summary:\n",
    "  \"\"\"\n",
    "\n",
    "  # tokenizer = AutoTokenizer.from_pretrained(\"databricks/dolly-v2-3b\", padding_side=\"left\")\n",
    "  # model = AutoModelForCausalLM.from_pretrained(\"databricks/dolly-v2-3b\", device_map=\"auto\", torch_dtype=torch.bfloat16)\n",
    "    \n",
    "  # output = InstructionTextGenerationPipeline(model=model, tokenizer=tokenizer)\n",
    "  generate_text = pipeline(model=model_name, torch_dtype=torch.bfloat16, trust_remote_code=True, device_map=\"auto\")\n",
    "  output = generate_text(prompt)\n",
    "  # inputs = tokenizer(prompt, return_tensors='pt')\n",
    "  # output = tokenizer.decode(\n",
    "  #     original_model.generate(\n",
    "  #         inputs[\"input_ids\"],\n",
    "  #         max_new_tokens=200,\n",
    "  #     )[0],\n",
    "  #     skip_special_tokens=True\n",
    "  # )\n",
    "    \n",
    "    \n",
    "\n",
    "  # output = InstructionTextGenerationPipeline(model=model, tokenizer=tokenizer)\n",
    "\n",
    "  dash_line = '-'.join('' for x in range(100))\n",
    "  print(dash_line)\n",
    "  print(f'INPUT PROMPT:\\n{prompt}')\n",
    "  print(dash_line)\n",
    "  print(f'MODEL GENERATION - ZERO SHOT:\\n{output}')\n",
    "  break"
   ]
  },
  {
   "cell_type": "code",
   "execution_count": null,
   "metadata": {},
   "outputs": [],
   "source": []
  }
 ],
 "metadata": {
  "accelerator": "GPU",
  "colab": {
   "gpuType": "T4",
   "provenance": []
  },
  "kernelspec": {
   "display_name": "Python 3 (ipykernel)",
   "language": "python",
   "name": "python3"
  },
  "language_info": {
   "codemirror_mode": {
    "name": "ipython",
    "version": 3
   },
   "file_extension": ".py",
   "mimetype": "text/x-python",
   "name": "python",
   "nbconvert_exporter": "python",
   "pygments_lexer": "ipython3",
   "version": "3.11.7"
  },
  "widgets": {
   "application/vnd.jupyter.widget-state+json": {
    "014271a816ae4911a83cfc70b1209ffc": {
     "model_module": "@jupyter-widgets/base",
     "model_module_version": "1.2.0",
     "model_name": "LayoutModel",
     "state": {
      "_model_module": "@jupyter-widgets/base",
      "_model_module_version": "1.2.0",
      "_model_name": "LayoutModel",
      "_view_count": null,
      "_view_module": "@jupyter-widgets/base",
      "_view_module_version": "1.2.0",
      "_view_name": "LayoutView",
      "align_content": null,
      "align_items": null,
      "align_self": null,
      "border": null,
      "bottom": null,
      "display": null,
      "flex": null,
      "flex_flow": null,
      "grid_area": null,
      "grid_auto_columns": null,
      "grid_auto_flow": null,
      "grid_auto_rows": null,
      "grid_column": null,
      "grid_gap": null,
      "grid_row": null,
      "grid_template_areas": null,
      "grid_template_columns": null,
      "grid_template_rows": null,
      "height": null,
      "justify_content": null,
      "justify_items": null,
      "left": null,
      "margin": null,
      "max_height": null,
      "max_width": null,
      "min_height": null,
      "min_width": null,
      "object_fit": null,
      "object_position": null,
      "order": null,
      "overflow": null,
      "overflow_x": null,
      "overflow_y": null,
      "padding": null,
      "right": null,
      "top": null,
      "visibility": null,
      "width": null
     }
    },
    "0559309636744174a77a16cd9bdd48de": {
     "model_module": "@jupyter-widgets/controls",
     "model_module_version": "1.5.0",
     "model_name": "HBoxModel",
     "state": {
      "_dom_classes": [],
      "_model_module": "@jupyter-widgets/controls",
      "_model_module_version": "1.5.0",
      "_model_name": "HBoxModel",
      "_view_count": null,
      "_view_module": "@jupyter-widgets/controls",
      "_view_module_version": "1.5.0",
      "_view_name": "HBoxView",
      "box_style": "",
      "children": [
       "IPY_MODEL_d631112412b049dca363cc5f53bce4ac",
       "IPY_MODEL_3a15c3f3c36a44f8b7c5a3008a53aeae",
       "IPY_MODEL_f52b8b0b78924dd18f586de30bfc5c1a"
      ],
      "layout": "IPY_MODEL_8ff8e65979b94c0f9780ea66ad6b302b"
     }
    },
    "0634d768792d4dc5a4f456517f373fa2": {
     "model_module": "@jupyter-widgets/controls",
     "model_module_version": "1.5.0",
     "model_name": "HBoxModel",
     "state": {
      "_dom_classes": [],
      "_model_module": "@jupyter-widgets/controls",
      "_model_module_version": "1.5.0",
      "_model_name": "HBoxModel",
      "_view_count": null,
      "_view_module": "@jupyter-widgets/controls",
      "_view_module_version": "1.5.0",
      "_view_name": "HBoxView",
      "box_style": "",
      "children": [
       "IPY_MODEL_75b1ad188a294b9cb6a5973bce0ab92f",
       "IPY_MODEL_1751a19fda4848ef82e39940cf610180",
       "IPY_MODEL_b74e069784a74fe784c5ddd79c3becda"
      ],
      "layout": "IPY_MODEL_c8939459ad744b3f9fbe45f37872acc1"
     }
    },
    "08cd44d5e26643878fe10af16251ec0b": {
     "model_module": "@jupyter-widgets/base",
     "model_module_version": "1.2.0",
     "model_name": "LayoutModel",
     "state": {
      "_model_module": "@jupyter-widgets/base",
      "_model_module_version": "1.2.0",
      "_model_name": "LayoutModel",
      "_view_count": null,
      "_view_module": "@jupyter-widgets/base",
      "_view_module_version": "1.2.0",
      "_view_name": "LayoutView",
      "align_content": null,
      "align_items": null,
      "align_self": null,
      "border": null,
      "bottom": null,
      "display": null,
      "flex": null,
      "flex_flow": null,
      "grid_area": null,
      "grid_auto_columns": null,
      "grid_auto_flow": null,
      "grid_auto_rows": null,
      "grid_column": null,
      "grid_gap": null,
      "grid_row": null,
      "grid_template_areas": null,
      "grid_template_columns": null,
      "grid_template_rows": null,
      "height": null,
      "justify_content": null,
      "justify_items": null,
      "left": null,
      "margin": null,
      "max_height": null,
      "max_width": null,
      "min_height": null,
      "min_width": null,
      "object_fit": null,
      "object_position": null,
      "order": null,
      "overflow": null,
      "overflow_x": null,
      "overflow_y": null,
      "padding": null,
      "right": null,
      "top": null,
      "visibility": null,
      "width": null
     }
    },
    "0ab843cecc1849bea8f013852c7c6756": {
     "model_module": "@jupyter-widgets/base",
     "model_module_version": "1.2.0",
     "model_name": "LayoutModel",
     "state": {
      "_model_module": "@jupyter-widgets/base",
      "_model_module_version": "1.2.0",
      "_model_name": "LayoutModel",
      "_view_count": null,
      "_view_module": "@jupyter-widgets/base",
      "_view_module_version": "1.2.0",
      "_view_name": "LayoutView",
      "align_content": null,
      "align_items": null,
      "align_self": null,
      "border": null,
      "bottom": null,
      "display": null,
      "flex": null,
      "flex_flow": null,
      "grid_area": null,
      "grid_auto_columns": null,
      "grid_auto_flow": null,
      "grid_auto_rows": null,
      "grid_column": null,
      "grid_gap": null,
      "grid_row": null,
      "grid_template_areas": null,
      "grid_template_columns": null,
      "grid_template_rows": null,
      "height": null,
      "justify_content": null,
      "justify_items": null,
      "left": null,
      "margin": null,
      "max_height": null,
      "max_width": null,
      "min_height": null,
      "min_width": null,
      "object_fit": null,
      "object_position": null,
      "order": null,
      "overflow": null,
      "overflow_x": null,
      "overflow_y": null,
      "padding": null,
      "right": null,
      "top": null,
      "visibility": null,
      "width": null
     }
    },
    "0c38985ebc16453f8f28f187bb70d4d5": {
     "model_module": "@jupyter-widgets/controls",
     "model_module_version": "1.5.0",
     "model_name": "DescriptionStyleModel",
     "state": {
      "_model_module": "@jupyter-widgets/controls",
      "_model_module_version": "1.5.0",
      "_model_name": "DescriptionStyleModel",
      "_view_count": null,
      "_view_module": "@jupyter-widgets/base",
      "_view_module_version": "1.2.0",
      "_view_name": "StyleView",
      "description_width": ""
     }
    },
    "1345123c5ff648b593f98b4421c4da6e": {
     "model_module": "@jupyter-widgets/controls",
     "model_module_version": "1.5.0",
     "model_name": "HBoxModel",
     "state": {
      "_dom_classes": [],
      "_model_module": "@jupyter-widgets/controls",
      "_model_module_version": "1.5.0",
      "_model_name": "HBoxModel",
      "_view_count": null,
      "_view_module": "@jupyter-widgets/controls",
      "_view_module_version": "1.5.0",
      "_view_name": "HBoxView",
      "box_style": "",
      "children": [
       "IPY_MODEL_443b257cd7a34266b520511d78e3528a",
       "IPY_MODEL_68f6acf5f1dd445b9acfddd33e3f6688",
       "IPY_MODEL_dc8fa9e11d8243ca80b92301341793dd"
      ],
      "layout": "IPY_MODEL_014271a816ae4911a83cfc70b1209ffc"
     }
    },
    "13f9414ab57c4bb18950bd303423796f": {
     "model_module": "@jupyter-widgets/controls",
     "model_module_version": "1.5.0",
     "model_name": "HTMLModel",
     "state": {
      "_dom_classes": [],
      "_model_module": "@jupyter-widgets/controls",
      "_model_module_version": "1.5.0",
      "_model_name": "HTMLModel",
      "_view_count": null,
      "_view_module": "@jupyter-widgets/controls",
      "_view_module_version": "1.5.0",
      "_view_name": "HTMLView",
      "description": "",
      "description_tooltip": null,
      "layout": "IPY_MODEL_8b68e6ef6df4489f8737e62efe22967b",
      "placeholder": "​",
      "style": "IPY_MODEL_827e770310e94035a84c22c8343c043c",
      "value": " 2.42M/2.42M [00:00&lt;00:00, 17.2MB/s]"
     }
    },
    "1751a19fda4848ef82e39940cf610180": {
     "model_module": "@jupyter-widgets/controls",
     "model_module_version": "1.5.0",
     "model_name": "FloatProgressModel",
     "state": {
      "_dom_classes": [],
      "_model_module": "@jupyter-widgets/controls",
      "_model_module_version": "1.5.0",
      "_model_name": "FloatProgressModel",
      "_view_count": null,
      "_view_module": "@jupyter-widgets/controls",
      "_view_module_version": "1.5.0",
      "_view_name": "ProgressView",
      "bar_style": "success",
      "description": "",
      "description_tooltip": null,
      "layout": "IPY_MODEL_7d5d428742e240f58319bc3cd8e06a0f",
      "max": 791656,
      "min": 0,
      "orientation": "horizontal",
      "style": "IPY_MODEL_9ae571fdf1014acea6874067e2771a41",
      "value": 791656
     }
    },
    "1b8c5abe1230498d8c38e3b04aefefa9": {
     "model_module": "@jupyter-widgets/base",
     "model_module_version": "1.2.0",
     "model_name": "LayoutModel",
     "state": {
      "_model_module": "@jupyter-widgets/base",
      "_model_module_version": "1.2.0",
      "_model_name": "LayoutModel",
      "_view_count": null,
      "_view_module": "@jupyter-widgets/base",
      "_view_module_version": "1.2.0",
      "_view_name": "LayoutView",
      "align_content": null,
      "align_items": null,
      "align_self": null,
      "border": null,
      "bottom": null,
      "display": null,
      "flex": null,
      "flex_flow": null,
      "grid_area": null,
      "grid_auto_columns": null,
      "grid_auto_flow": null,
      "grid_auto_rows": null,
      "grid_column": null,
      "grid_gap": null,
      "grid_row": null,
      "grid_template_areas": null,
      "grid_template_columns": null,
      "grid_template_rows": null,
      "height": null,
      "justify_content": null,
      "justify_items": null,
      "left": null,
      "margin": null,
      "max_height": null,
      "max_width": null,
      "min_height": null,
      "min_width": null,
      "object_fit": null,
      "object_position": null,
      "order": null,
      "overflow": null,
      "overflow_x": null,
      "overflow_y": null,
      "padding": null,
      "right": null,
      "top": null,
      "visibility": null,
      "width": null
     }
    },
    "200b92e13f5449dcb3ab5fe9144c543e": {
     "model_module": "@jupyter-widgets/base",
     "model_module_version": "1.2.0",
     "model_name": "LayoutModel",
     "state": {
      "_model_module": "@jupyter-widgets/base",
      "_model_module_version": "1.2.0",
      "_model_name": "LayoutModel",
      "_view_count": null,
      "_view_module": "@jupyter-widgets/base",
      "_view_module_version": "1.2.0",
      "_view_name": "LayoutView",
      "align_content": null,
      "align_items": null,
      "align_self": null,
      "border": null,
      "bottom": null,
      "display": null,
      "flex": null,
      "flex_flow": null,
      "grid_area": null,
      "grid_auto_columns": null,
      "grid_auto_flow": null,
      "grid_auto_rows": null,
      "grid_column": null,
      "grid_gap": null,
      "grid_row": null,
      "grid_template_areas": null,
      "grid_template_columns": null,
      "grid_template_rows": null,
      "height": null,
      "justify_content": null,
      "justify_items": null,
      "left": null,
      "margin": null,
      "max_height": null,
      "max_width": null,
      "min_height": null,
      "min_width": null,
      "object_fit": null,
      "object_position": null,
      "order": null,
      "overflow": null,
      "overflow_x": null,
      "overflow_y": null,
      "padding": null,
      "right": null,
      "top": null,
      "visibility": null,
      "width": null
     }
    },
    "274e454d16c54d1593bba7cf799af005": {
     "model_module": "@jupyter-widgets/controls",
     "model_module_version": "1.5.0",
     "model_name": "FloatProgressModel",
     "state": {
      "_dom_classes": [],
      "_model_module": "@jupyter-widgets/controls",
      "_model_module_version": "1.5.0",
      "_model_name": "FloatProgressModel",
      "_view_count": null,
      "_view_module": "@jupyter-widgets/controls",
      "_view_module_version": "1.5.0",
      "_view_name": "ProgressView",
      "bar_style": "success",
      "description": "",
      "description_tooltip": null,
      "layout": "IPY_MODEL_d11b0d47016b4cc09348474d9a990724",
      "max": 1404,
      "min": 0,
      "orientation": "horizontal",
      "style": "IPY_MODEL_3ed6c24f96d14736a026e2d733d00af1",
      "value": 1404
     }
    },
    "2ff4be85ffec492daf9a78df5f60de2c": {
     "model_module": "@jupyter-widgets/base",
     "model_module_version": "1.2.0",
     "model_name": "LayoutModel",
     "state": {
      "_model_module": "@jupyter-widgets/base",
      "_model_module_version": "1.2.0",
      "_model_name": "LayoutModel",
      "_view_count": null,
      "_view_module": "@jupyter-widgets/base",
      "_view_module_version": "1.2.0",
      "_view_name": "LayoutView",
      "align_content": null,
      "align_items": null,
      "align_self": null,
      "border": null,
      "bottom": null,
      "display": null,
      "flex": null,
      "flex_flow": null,
      "grid_area": null,
      "grid_auto_columns": null,
      "grid_auto_flow": null,
      "grid_auto_rows": null,
      "grid_column": null,
      "grid_gap": null,
      "grid_row": null,
      "grid_template_areas": null,
      "grid_template_columns": null,
      "grid_template_rows": null,
      "height": null,
      "justify_content": null,
      "justify_items": null,
      "left": null,
      "margin": null,
      "max_height": null,
      "max_width": null,
      "min_height": null,
      "min_width": null,
      "object_fit": null,
      "object_position": null,
      "order": null,
      "overflow": null,
      "overflow_x": null,
      "overflow_y": null,
      "padding": null,
      "right": null,
      "top": null,
      "visibility": null,
      "width": null
     }
    },
    "333ca220cad24ad392e1ba4b58400b73": {
     "model_module": "@jupyter-widgets/base",
     "model_module_version": "1.2.0",
     "model_name": "LayoutModel",
     "state": {
      "_model_module": "@jupyter-widgets/base",
      "_model_module_version": "1.2.0",
      "_model_name": "LayoutModel",
      "_view_count": null,
      "_view_module": "@jupyter-widgets/base",
      "_view_module_version": "1.2.0",
      "_view_name": "LayoutView",
      "align_content": null,
      "align_items": null,
      "align_self": null,
      "border": null,
      "bottom": null,
      "display": null,
      "flex": null,
      "flex_flow": null,
      "grid_area": null,
      "grid_auto_columns": null,
      "grid_auto_flow": null,
      "grid_auto_rows": null,
      "grid_column": null,
      "grid_gap": null,
      "grid_row": null,
      "grid_template_areas": null,
      "grid_template_columns": null,
      "grid_template_rows": null,
      "height": null,
      "justify_content": null,
      "justify_items": null,
      "left": null,
      "margin": null,
      "max_height": null,
      "max_width": null,
      "min_height": null,
      "min_width": null,
      "object_fit": null,
      "object_position": null,
      "order": null,
      "overflow": null,
      "overflow_x": null,
      "overflow_y": null,
      "padding": null,
      "right": null,
      "top": null,
      "visibility": null,
      "width": null
     }
    },
    "360f4832873d48449ed78b411ddba64d": {
     "model_module": "@jupyter-widgets/controls",
     "model_module_version": "1.5.0",
     "model_name": "HTMLModel",
     "state": {
      "_dom_classes": [],
      "_model_module": "@jupyter-widgets/controls",
      "_model_module_version": "1.5.0",
      "_model_name": "HTMLModel",
      "_view_count": null,
      "_view_module": "@jupyter-widgets/controls",
      "_view_module_version": "1.5.0",
      "_view_name": "HTMLView",
      "description": "",
      "description_tooltip": null,
      "layout": "IPY_MODEL_333ca220cad24ad392e1ba4b58400b73",
      "placeholder": "​",
      "style": "IPY_MODEL_8f7d1b2ac321463b8ef01c7d9b3096fd",
      "value": "tokenizer.json: 100%"
     }
    },
    "3a15c3f3c36a44f8b7c5a3008a53aeae": {
     "model_module": "@jupyter-widgets/controls",
     "model_module_version": "1.5.0",
     "model_name": "FloatProgressModel",
     "state": {
      "_dom_classes": [],
      "_model_module": "@jupyter-widgets/controls",
      "_model_module_version": "1.5.0",
      "_model_name": "FloatProgressModel",
      "_view_count": null,
      "_view_module": "@jupyter-widgets/controls",
      "_view_module_version": "1.5.0",
      "_view_name": "ProgressView",
      "bar_style": "success",
      "description": "",
      "description_tooltip": null,
      "layout": "IPY_MODEL_2ff4be85ffec492daf9a78df5f60de2c",
      "max": 2201,
      "min": 0,
      "orientation": "horizontal",
      "style": "IPY_MODEL_91d73d6b6f874c00909903c8f3d1fe36",
      "value": 2201
     }
    },
    "3ed6c24f96d14736a026e2d733d00af1": {
     "model_module": "@jupyter-widgets/controls",
     "model_module_version": "1.5.0",
     "model_name": "ProgressStyleModel",
     "state": {
      "_model_module": "@jupyter-widgets/controls",
      "_model_module_version": "1.5.0",
      "_model_name": "ProgressStyleModel",
      "_view_count": null,
      "_view_module": "@jupyter-widgets/base",
      "_view_module_version": "1.2.0",
      "_view_name": "StyleView",
      "bar_color": null,
      "description_width": ""
     }
    },
    "3ed9c24ff54c4077aba491b0dc857c2a": {
     "model_module": "@jupyter-widgets/controls",
     "model_module_version": "1.5.0",
     "model_name": "FloatProgressModel",
     "state": {
      "_dom_classes": [],
      "_model_module": "@jupyter-widgets/controls",
      "_model_module_version": "1.5.0",
      "_model_name": "FloatProgressModel",
      "_view_count": null,
      "_view_module": "@jupyter-widgets/controls",
      "_view_module_version": "1.5.0",
      "_view_name": "ProgressView",
      "bar_style": "success",
      "description": "",
      "description_tooltip": null,
      "layout": "IPY_MODEL_c8e2eb5c12c545969b7aa01ada547646",
      "max": 2424064,
      "min": 0,
      "orientation": "horizontal",
      "style": "IPY_MODEL_929483fb708546d990a844ab10010df4",
      "value": 2424064
     }
    },
    "424ffe75aebf42b3a457715d9be29d77": {
     "model_module": "@jupyter-widgets/controls",
     "model_module_version": "1.5.0",
     "model_name": "HBoxModel",
     "state": {
      "_dom_classes": [],
      "_model_module": "@jupyter-widgets/controls",
      "_model_module_version": "1.5.0",
      "_model_name": "HBoxModel",
      "_view_count": null,
      "_view_module": "@jupyter-widgets/controls",
      "_view_module_version": "1.5.0",
      "_view_name": "HBoxView",
      "box_style": "",
      "children": [
       "IPY_MODEL_ff29014a35b843fea3abe6b3a943d3bc",
       "IPY_MODEL_d07daf91f7a6453bb881617adaf01c54",
       "IPY_MODEL_4f0c00a97ddb4c1c96eabb108656492a"
      ],
      "layout": "IPY_MODEL_e770cd0f4e954104924235a5e394fc7f"
     }
    },
    "443b257cd7a34266b520511d78e3528a": {
     "model_module": "@jupyter-widgets/controls",
     "model_module_version": "1.5.0",
     "model_name": "HTMLModel",
     "state": {
      "_dom_classes": [],
      "_model_module": "@jupyter-widgets/controls",
      "_model_module_version": "1.5.0",
      "_model_name": "HTMLModel",
      "_view_count": null,
      "_view_module": "@jupyter-widgets/controls",
      "_view_module_version": "1.5.0",
      "_view_name": "HTMLView",
      "description": "",
      "description_tooltip": null,
      "layout": "IPY_MODEL_f1de24a3118b4a8d91143d64b78f2640",
      "placeholder": "​",
      "style": "IPY_MODEL_711b3bd0f57b40fcbaae89fb982b9661",
      "value": "generation_config.json: 100%"
     }
    },
    "44f8d24b71684732b74831eb90fb6536": {
     "model_module": "@jupyter-widgets/controls",
     "model_module_version": "1.5.0",
     "model_name": "HBoxModel",
     "state": {
      "_dom_classes": [],
      "_model_module": "@jupyter-widgets/controls",
      "_model_module_version": "1.5.0",
      "_model_name": "HBoxModel",
      "_view_count": null,
      "_view_module": "@jupyter-widgets/controls",
      "_view_module_version": "1.5.0",
      "_view_name": "HBoxView",
      "box_style": "",
      "children": [
       "IPY_MODEL_ad826714bb77435293b4f6b49b10821e",
       "IPY_MODEL_274e454d16c54d1593bba7cf799af005",
       "IPY_MODEL_5805f377148f41c288ee5782abb14dda"
      ],
      "layout": "IPY_MODEL_6e114d72b74848008dc4972805abb6b9"
     }
    },
    "4f0c00a97ddb4c1c96eabb108656492a": {
     "model_module": "@jupyter-widgets/controls",
     "model_module_version": "1.5.0",
     "model_name": "HTMLModel",
     "state": {
      "_dom_classes": [],
      "_model_module": "@jupyter-widgets/controls",
      "_model_module_version": "1.5.0",
      "_model_name": "HTMLModel",
      "_view_count": null,
      "_view_module": "@jupyter-widgets/controls",
      "_view_module_version": "1.5.0",
      "_view_name": "HTMLView",
      "description": "",
      "description_tooltip": null,
      "layout": "IPY_MODEL_b32aa0a5cff341e3b395216a9acb98be",
      "placeholder": "​",
      "style": "IPY_MODEL_a20a9c871ec146c78e054ede0d94f8fe",
      "value": " 990M/990M [00:07&lt;00:00, 184MB/s]"
     }
    },
    "4fd2737d8a72459d9805c73838466327": {
     "model_module": "@jupyter-widgets/controls",
     "model_module_version": "1.5.0",
     "model_name": "HBoxModel",
     "state": {
      "_dom_classes": [],
      "_model_module": "@jupyter-widgets/controls",
      "_model_module_version": "1.5.0",
      "_model_name": "HBoxModel",
      "_view_count": null,
      "_view_module": "@jupyter-widgets/controls",
      "_view_module_version": "1.5.0",
      "_view_name": "HBoxView",
      "box_style": "",
      "children": [
       "IPY_MODEL_91199e5210bb44b88d5305eecc3239fe",
       "IPY_MODEL_d926196ae4324ac9a2ade3a5040b7512",
       "IPY_MODEL_f27abe1313904ba3907ccb01155d9fcb"
      ],
      "layout": "IPY_MODEL_8cf13f27b935454a896ad20dbcef311c"
     }
    },
    "5805f377148f41c288ee5782abb14dda": {
     "model_module": "@jupyter-widgets/controls",
     "model_module_version": "1.5.0",
     "model_name": "HTMLModel",
     "state": {
      "_dom_classes": [],
      "_model_module": "@jupyter-widgets/controls",
      "_model_module_version": "1.5.0",
      "_model_name": "HTMLModel",
      "_view_count": null,
      "_view_module": "@jupyter-widgets/controls",
      "_view_module_version": "1.5.0",
      "_view_name": "HTMLView",
      "description": "",
      "description_tooltip": null,
      "layout": "IPY_MODEL_1b8c5abe1230498d8c38e3b04aefefa9",
      "placeholder": "​",
      "style": "IPY_MODEL_ec0d82aafd164f519937e8686e94e1c6",
      "value": " 1.40k/1.40k [00:00&lt;00:00, 83.6kB/s]"
     }
    },
    "5e2af3e18f984bc1add24891a469fd7e": {
     "model_module": "@jupyter-widgets/controls",
     "model_module_version": "1.5.0",
     "model_name": "DescriptionStyleModel",
     "state": {
      "_model_module": "@jupyter-widgets/controls",
      "_model_module_version": "1.5.0",
      "_model_name": "DescriptionStyleModel",
      "_view_count": null,
      "_view_module": "@jupyter-widgets/base",
      "_view_module_version": "1.2.0",
      "_view_name": "StyleView",
      "description_width": ""
     }
    },
    "5eee05c200bf41a1af1063dc6af4315d": {
     "model_module": "@jupyter-widgets/controls",
     "model_module_version": "1.5.0",
     "model_name": "DescriptionStyleModel",
     "state": {
      "_model_module": "@jupyter-widgets/controls",
      "_model_module_version": "1.5.0",
      "_model_name": "DescriptionStyleModel",
      "_view_count": null,
      "_view_module": "@jupyter-widgets/base",
      "_view_module_version": "1.2.0",
      "_view_name": "StyleView",
      "description_width": ""
     }
    },
    "65f53194293b46c0a39de7e085603fe2": {
     "model_module": "@jupyter-widgets/controls",
     "model_module_version": "1.5.0",
     "model_name": "DescriptionStyleModel",
     "state": {
      "_model_module": "@jupyter-widgets/controls",
      "_model_module_version": "1.5.0",
      "_model_name": "DescriptionStyleModel",
      "_view_count": null,
      "_view_module": "@jupyter-widgets/base",
      "_view_module_version": "1.2.0",
      "_view_name": "StyleView",
      "description_width": ""
     }
    },
    "6802da82dd5b4ca3a2c8279441bcb4e7": {
     "model_module": "@jupyter-widgets/controls",
     "model_module_version": "1.5.0",
     "model_name": "DescriptionStyleModel",
     "state": {
      "_model_module": "@jupyter-widgets/controls",
      "_model_module_version": "1.5.0",
      "_model_name": "DescriptionStyleModel",
      "_view_count": null,
      "_view_module": "@jupyter-widgets/base",
      "_view_module_version": "1.2.0",
      "_view_name": "StyleView",
      "description_width": ""
     }
    },
    "68f6acf5f1dd445b9acfddd33e3f6688": {
     "model_module": "@jupyter-widgets/controls",
     "model_module_version": "1.5.0",
     "model_name": "FloatProgressModel",
     "state": {
      "_dom_classes": [],
      "_model_module": "@jupyter-widgets/controls",
      "_model_module_version": "1.5.0",
      "_model_name": "FloatProgressModel",
      "_view_count": null,
      "_view_module": "@jupyter-widgets/controls",
      "_view_module_version": "1.5.0",
      "_view_name": "ProgressView",
      "bar_style": "success",
      "description": "",
      "description_tooltip": null,
      "layout": "IPY_MODEL_200b92e13f5449dcb3ab5fe9144c543e",
      "max": 147,
      "min": 0,
      "orientation": "horizontal",
      "style": "IPY_MODEL_6f2e1b84064e47c48d4ef1d48a47690d",
      "value": 147
     }
    },
    "699b9e3ba90f404eb498d83174266299": {
     "model_module": "@jupyter-widgets/controls",
     "model_module_version": "1.5.0",
     "model_name": "DescriptionStyleModel",
     "state": {
      "_model_module": "@jupyter-widgets/controls",
      "_model_module_version": "1.5.0",
      "_model_name": "DescriptionStyleModel",
      "_view_count": null,
      "_view_module": "@jupyter-widgets/base",
      "_view_module_version": "1.2.0",
      "_view_name": "StyleView",
      "description_width": ""
     }
    },
    "6e114d72b74848008dc4972805abb6b9": {
     "model_module": "@jupyter-widgets/base",
     "model_module_version": "1.2.0",
     "model_name": "LayoutModel",
     "state": {
      "_model_module": "@jupyter-widgets/base",
      "_model_module_version": "1.2.0",
      "_model_name": "LayoutModel",
      "_view_count": null,
      "_view_module": "@jupyter-widgets/base",
      "_view_module_version": "1.2.0",
      "_view_name": "LayoutView",
      "align_content": null,
      "align_items": null,
      "align_self": null,
      "border": null,
      "bottom": null,
      "display": null,
      "flex": null,
      "flex_flow": null,
      "grid_area": null,
      "grid_auto_columns": null,
      "grid_auto_flow": null,
      "grid_auto_rows": null,
      "grid_column": null,
      "grid_gap": null,
      "grid_row": null,
      "grid_template_areas": null,
      "grid_template_columns": null,
      "grid_template_rows": null,
      "height": null,
      "justify_content": null,
      "justify_items": null,
      "left": null,
      "margin": null,
      "max_height": null,
      "max_width": null,
      "min_height": null,
      "min_width": null,
      "object_fit": null,
      "object_position": null,
      "order": null,
      "overflow": null,
      "overflow_x": null,
      "overflow_y": null,
      "padding": null,
      "right": null,
      "top": null,
      "visibility": null,
      "width": null
     }
    },
    "6f2e1b84064e47c48d4ef1d48a47690d": {
     "model_module": "@jupyter-widgets/controls",
     "model_module_version": "1.5.0",
     "model_name": "ProgressStyleModel",
     "state": {
      "_model_module": "@jupyter-widgets/controls",
      "_model_module_version": "1.5.0",
      "_model_name": "ProgressStyleModel",
      "_view_count": null,
      "_view_module": "@jupyter-widgets/base",
      "_view_module_version": "1.2.0",
      "_view_name": "StyleView",
      "bar_color": null,
      "description_width": ""
     }
    },
    "711b3bd0f57b40fcbaae89fb982b9661": {
     "model_module": "@jupyter-widgets/controls",
     "model_module_version": "1.5.0",
     "model_name": "DescriptionStyleModel",
     "state": {
      "_model_module": "@jupyter-widgets/controls",
      "_model_module_version": "1.5.0",
      "_model_name": "DescriptionStyleModel",
      "_view_count": null,
      "_view_module": "@jupyter-widgets/base",
      "_view_module_version": "1.2.0",
      "_view_name": "StyleView",
      "description_width": ""
     }
    },
    "75b1ad188a294b9cb6a5973bce0ab92f": {
     "model_module": "@jupyter-widgets/controls",
     "model_module_version": "1.5.0",
     "model_name": "HTMLModel",
     "state": {
      "_dom_classes": [],
      "_model_module": "@jupyter-widgets/controls",
      "_model_module_version": "1.5.0",
      "_model_name": "HTMLModel",
      "_view_count": null,
      "_view_module": "@jupyter-widgets/controls",
      "_view_module_version": "1.5.0",
      "_view_name": "HTMLView",
      "description": "",
      "description_tooltip": null,
      "layout": "IPY_MODEL_7da00253f7fd4da0917cbae726c7eb0d",
      "placeholder": "​",
      "style": "IPY_MODEL_699b9e3ba90f404eb498d83174266299",
      "value": "spiece.model: 100%"
     }
    },
    "7c973882a8754a3db5c93d9c805f6a33": {
     "model_module": "@jupyter-widgets/controls",
     "model_module_version": "1.5.0",
     "model_name": "ProgressStyleModel",
     "state": {
      "_model_module": "@jupyter-widgets/controls",
      "_model_module_version": "1.5.0",
      "_model_name": "ProgressStyleModel",
      "_view_count": null,
      "_view_module": "@jupyter-widgets/base",
      "_view_module_version": "1.2.0",
      "_view_name": "StyleView",
      "bar_color": null,
      "description_width": ""
     }
    },
    "7d5d428742e240f58319bc3cd8e06a0f": {
     "model_module": "@jupyter-widgets/base",
     "model_module_version": "1.2.0",
     "model_name": "LayoutModel",
     "state": {
      "_model_module": "@jupyter-widgets/base",
      "_model_module_version": "1.2.0",
      "_model_name": "LayoutModel",
      "_view_count": null,
      "_view_module": "@jupyter-widgets/base",
      "_view_module_version": "1.2.0",
      "_view_name": "LayoutView",
      "align_content": null,
      "align_items": null,
      "align_self": null,
      "border": null,
      "bottom": null,
      "display": null,
      "flex": null,
      "flex_flow": null,
      "grid_area": null,
      "grid_auto_columns": null,
      "grid_auto_flow": null,
      "grid_auto_rows": null,
      "grid_column": null,
      "grid_gap": null,
      "grid_row": null,
      "grid_template_areas": null,
      "grid_template_columns": null,
      "grid_template_rows": null,
      "height": null,
      "justify_content": null,
      "justify_items": null,
      "left": null,
      "margin": null,
      "max_height": null,
      "max_width": null,
      "min_height": null,
      "min_width": null,
      "object_fit": null,
      "object_position": null,
      "order": null,
      "overflow": null,
      "overflow_x": null,
      "overflow_y": null,
      "padding": null,
      "right": null,
      "top": null,
      "visibility": null,
      "width": null
     }
    },
    "7da00253f7fd4da0917cbae726c7eb0d": {
     "model_module": "@jupyter-widgets/base",
     "model_module_version": "1.2.0",
     "model_name": "LayoutModel",
     "state": {
      "_model_module": "@jupyter-widgets/base",
      "_model_module_version": "1.2.0",
      "_model_name": "LayoutModel",
      "_view_count": null,
      "_view_module": "@jupyter-widgets/base",
      "_view_module_version": "1.2.0",
      "_view_name": "LayoutView",
      "align_content": null,
      "align_items": null,
      "align_self": null,
      "border": null,
      "bottom": null,
      "display": null,
      "flex": null,
      "flex_flow": null,
      "grid_area": null,
      "grid_auto_columns": null,
      "grid_auto_flow": null,
      "grid_auto_rows": null,
      "grid_column": null,
      "grid_gap": null,
      "grid_row": null,
      "grid_template_areas": null,
      "grid_template_columns": null,
      "grid_template_rows": null,
      "height": null,
      "justify_content": null,
      "justify_items": null,
      "left": null,
      "margin": null,
      "max_height": null,
      "max_width": null,
      "min_height": null,
      "min_width": null,
      "object_fit": null,
      "object_position": null,
      "order": null,
      "overflow": null,
      "overflow_x": null,
      "overflow_y": null,
      "padding": null,
      "right": null,
      "top": null,
      "visibility": null,
      "width": null
     }
    },
    "7ff283633b43443d92f66f9e13ce7ce6": {
     "model_module": "@jupyter-widgets/base",
     "model_module_version": "1.2.0",
     "model_name": "LayoutModel",
     "state": {
      "_model_module": "@jupyter-widgets/base",
      "_model_module_version": "1.2.0",
      "_model_name": "LayoutModel",
      "_view_count": null,
      "_view_module": "@jupyter-widgets/base",
      "_view_module_version": "1.2.0",
      "_view_name": "LayoutView",
      "align_content": null,
      "align_items": null,
      "align_self": null,
      "border": null,
      "bottom": null,
      "display": null,
      "flex": null,
      "flex_flow": null,
      "grid_area": null,
      "grid_auto_columns": null,
      "grid_auto_flow": null,
      "grid_auto_rows": null,
      "grid_column": null,
      "grid_gap": null,
      "grid_row": null,
      "grid_template_areas": null,
      "grid_template_columns": null,
      "grid_template_rows": null,
      "height": null,
      "justify_content": null,
      "justify_items": null,
      "left": null,
      "margin": null,
      "max_height": null,
      "max_width": null,
      "min_height": null,
      "min_width": null,
      "object_fit": null,
      "object_position": null,
      "order": null,
      "overflow": null,
      "overflow_x": null,
      "overflow_y": null,
      "padding": null,
      "right": null,
      "top": null,
      "visibility": null,
      "width": null
     }
    },
    "81c5d00a6a94496382687659a7359428": {
     "model_module": "@jupyter-widgets/base",
     "model_module_version": "1.2.0",
     "model_name": "LayoutModel",
     "state": {
      "_model_module": "@jupyter-widgets/base",
      "_model_module_version": "1.2.0",
      "_model_name": "LayoutModel",
      "_view_count": null,
      "_view_module": "@jupyter-widgets/base",
      "_view_module_version": "1.2.0",
      "_view_name": "LayoutView",
      "align_content": null,
      "align_items": null,
      "align_self": null,
      "border": null,
      "bottom": null,
      "display": null,
      "flex": null,
      "flex_flow": null,
      "grid_area": null,
      "grid_auto_columns": null,
      "grid_auto_flow": null,
      "grid_auto_rows": null,
      "grid_column": null,
      "grid_gap": null,
      "grid_row": null,
      "grid_template_areas": null,
      "grid_template_columns": null,
      "grid_template_rows": null,
      "height": null,
      "justify_content": null,
      "justify_items": null,
      "left": null,
      "margin": null,
      "max_height": null,
      "max_width": null,
      "min_height": null,
      "min_width": null,
      "object_fit": null,
      "object_position": null,
      "order": null,
      "overflow": null,
      "overflow_x": null,
      "overflow_y": null,
      "padding": null,
      "right": null,
      "top": null,
      "visibility": null,
      "width": null
     }
    },
    "827e770310e94035a84c22c8343c043c": {
     "model_module": "@jupyter-widgets/controls",
     "model_module_version": "1.5.0",
     "model_name": "DescriptionStyleModel",
     "state": {
      "_model_module": "@jupyter-widgets/controls",
      "_model_module_version": "1.5.0",
      "_model_name": "DescriptionStyleModel",
      "_view_count": null,
      "_view_module": "@jupyter-widgets/base",
      "_view_module_version": "1.2.0",
      "_view_name": "StyleView",
      "description_width": ""
     }
    },
    "88a15762b1d54bc49f2599aef0986395": {
     "model_module": "@jupyter-widgets/base",
     "model_module_version": "1.2.0",
     "model_name": "LayoutModel",
     "state": {
      "_model_module": "@jupyter-widgets/base",
      "_model_module_version": "1.2.0",
      "_model_name": "LayoutModel",
      "_view_count": null,
      "_view_module": "@jupyter-widgets/base",
      "_view_module_version": "1.2.0",
      "_view_name": "LayoutView",
      "align_content": null,
      "align_items": null,
      "align_self": null,
      "border": null,
      "bottom": null,
      "display": null,
      "flex": null,
      "flex_flow": null,
      "grid_area": null,
      "grid_auto_columns": null,
      "grid_auto_flow": null,
      "grid_auto_rows": null,
      "grid_column": null,
      "grid_gap": null,
      "grid_row": null,
      "grid_template_areas": null,
      "grid_template_columns": null,
      "grid_template_rows": null,
      "height": null,
      "justify_content": null,
      "justify_items": null,
      "left": null,
      "margin": null,
      "max_height": null,
      "max_width": null,
      "min_height": null,
      "min_width": null,
      "object_fit": null,
      "object_position": null,
      "order": null,
      "overflow": null,
      "overflow_x": null,
      "overflow_y": null,
      "padding": null,
      "right": null,
      "top": null,
      "visibility": null,
      "width": null
     }
    },
    "8b68e6ef6df4489f8737e62efe22967b": {
     "model_module": "@jupyter-widgets/base",
     "model_module_version": "1.2.0",
     "model_name": "LayoutModel",
     "state": {
      "_model_module": "@jupyter-widgets/base",
      "_model_module_version": "1.2.0",
      "_model_name": "LayoutModel",
      "_view_count": null,
      "_view_module": "@jupyter-widgets/base",
      "_view_module_version": "1.2.0",
      "_view_name": "LayoutView",
      "align_content": null,
      "align_items": null,
      "align_self": null,
      "border": null,
      "bottom": null,
      "display": null,
      "flex": null,
      "flex_flow": null,
      "grid_area": null,
      "grid_auto_columns": null,
      "grid_auto_flow": null,
      "grid_auto_rows": null,
      "grid_column": null,
      "grid_gap": null,
      "grid_row": null,
      "grid_template_areas": null,
      "grid_template_columns": null,
      "grid_template_rows": null,
      "height": null,
      "justify_content": null,
      "justify_items": null,
      "left": null,
      "margin": null,
      "max_height": null,
      "max_width": null,
      "min_height": null,
      "min_width": null,
      "object_fit": null,
      "object_position": null,
      "order": null,
      "overflow": null,
      "overflow_x": null,
      "overflow_y": null,
      "padding": null,
      "right": null,
      "top": null,
      "visibility": null,
      "width": null
     }
    },
    "8cf13f27b935454a896ad20dbcef311c": {
     "model_module": "@jupyter-widgets/base",
     "model_module_version": "1.2.0",
     "model_name": "LayoutModel",
     "state": {
      "_model_module": "@jupyter-widgets/base",
      "_model_module_version": "1.2.0",
      "_model_name": "LayoutModel",
      "_view_count": null,
      "_view_module": "@jupyter-widgets/base",
      "_view_module_version": "1.2.0",
      "_view_name": "LayoutView",
      "align_content": null,
      "align_items": null,
      "align_self": null,
      "border": null,
      "bottom": null,
      "display": null,
      "flex": null,
      "flex_flow": null,
      "grid_area": null,
      "grid_auto_columns": null,
      "grid_auto_flow": null,
      "grid_auto_rows": null,
      "grid_column": null,
      "grid_gap": null,
      "grid_row": null,
      "grid_template_areas": null,
      "grid_template_columns": null,
      "grid_template_rows": null,
      "height": null,
      "justify_content": null,
      "justify_items": null,
      "left": null,
      "margin": null,
      "max_height": null,
      "max_width": null,
      "min_height": null,
      "min_width": null,
      "object_fit": null,
      "object_position": null,
      "order": null,
      "overflow": null,
      "overflow_x": null,
      "overflow_y": null,
      "padding": null,
      "right": null,
      "top": null,
      "visibility": null,
      "width": null
     }
    },
    "8f7d1b2ac321463b8ef01c7d9b3096fd": {
     "model_module": "@jupyter-widgets/controls",
     "model_module_version": "1.5.0",
     "model_name": "DescriptionStyleModel",
     "state": {
      "_model_module": "@jupyter-widgets/controls",
      "_model_module_version": "1.5.0",
      "_model_name": "DescriptionStyleModel",
      "_view_count": null,
      "_view_module": "@jupyter-widgets/base",
      "_view_module_version": "1.2.0",
      "_view_name": "StyleView",
      "description_width": ""
     }
    },
    "8ff8e65979b94c0f9780ea66ad6b302b": {
     "model_module": "@jupyter-widgets/base",
     "model_module_version": "1.2.0",
     "model_name": "LayoutModel",
     "state": {
      "_model_module": "@jupyter-widgets/base",
      "_model_module_version": "1.2.0",
      "_model_name": "LayoutModel",
      "_view_count": null,
      "_view_module": "@jupyter-widgets/base",
      "_view_module_version": "1.2.0",
      "_view_name": "LayoutView",
      "align_content": null,
      "align_items": null,
      "align_self": null,
      "border": null,
      "bottom": null,
      "display": null,
      "flex": null,
      "flex_flow": null,
      "grid_area": null,
      "grid_auto_columns": null,
      "grid_auto_flow": null,
      "grid_auto_rows": null,
      "grid_column": null,
      "grid_gap": null,
      "grid_row": null,
      "grid_template_areas": null,
      "grid_template_columns": null,
      "grid_template_rows": null,
      "height": null,
      "justify_content": null,
      "justify_items": null,
      "left": null,
      "margin": null,
      "max_height": null,
      "max_width": null,
      "min_height": null,
      "min_width": null,
      "object_fit": null,
      "object_position": null,
      "order": null,
      "overflow": null,
      "overflow_x": null,
      "overflow_y": null,
      "padding": null,
      "right": null,
      "top": null,
      "visibility": null,
      "width": null
     }
    },
    "91199e5210bb44b88d5305eecc3239fe": {
     "model_module": "@jupyter-widgets/controls",
     "model_module_version": "1.5.0",
     "model_name": "HTMLModel",
     "state": {
      "_dom_classes": [],
      "_model_module": "@jupyter-widgets/controls",
      "_model_module_version": "1.5.0",
      "_model_name": "HTMLModel",
      "_view_count": null,
      "_view_module": "@jupyter-widgets/controls",
      "_view_module_version": "1.5.0",
      "_view_name": "HTMLView",
      "description": "",
      "description_tooltip": null,
      "layout": "IPY_MODEL_944c1df6378d46fd8e3ee3e7111e436d",
      "placeholder": "​",
      "style": "IPY_MODEL_0c38985ebc16453f8f28f187bb70d4d5",
      "value": "tokenizer_config.json: 100%"
     }
    },
    "91d73d6b6f874c00909903c8f3d1fe36": {
     "model_module": "@jupyter-widgets/controls",
     "model_module_version": "1.5.0",
     "model_name": "ProgressStyleModel",
     "state": {
      "_model_module": "@jupyter-widgets/controls",
      "_model_module_version": "1.5.0",
      "_model_name": "ProgressStyleModel",
      "_view_count": null,
      "_view_module": "@jupyter-widgets/base",
      "_view_module_version": "1.2.0",
      "_view_name": "StyleView",
      "bar_color": null,
      "description_width": ""
     }
    },
    "929483fb708546d990a844ab10010df4": {
     "model_module": "@jupyter-widgets/controls",
     "model_module_version": "1.5.0",
     "model_name": "ProgressStyleModel",
     "state": {
      "_model_module": "@jupyter-widgets/controls",
      "_model_module_version": "1.5.0",
      "_model_name": "ProgressStyleModel",
      "_view_count": null,
      "_view_module": "@jupyter-widgets/base",
      "_view_module_version": "1.2.0",
      "_view_name": "StyleView",
      "bar_color": null,
      "description_width": ""
     }
    },
    "944c1df6378d46fd8e3ee3e7111e436d": {
     "model_module": "@jupyter-widgets/base",
     "model_module_version": "1.2.0",
     "model_name": "LayoutModel",
     "state": {
      "_model_module": "@jupyter-widgets/base",
      "_model_module_version": "1.2.0",
      "_model_name": "LayoutModel",
      "_view_count": null,
      "_view_module": "@jupyter-widgets/base",
      "_view_module_version": "1.2.0",
      "_view_name": "LayoutView",
      "align_content": null,
      "align_items": null,
      "align_self": null,
      "border": null,
      "bottom": null,
      "display": null,
      "flex": null,
      "flex_flow": null,
      "grid_area": null,
      "grid_auto_columns": null,
      "grid_auto_flow": null,
      "grid_auto_rows": null,
      "grid_column": null,
      "grid_gap": null,
      "grid_row": null,
      "grid_template_areas": null,
      "grid_template_columns": null,
      "grid_template_rows": null,
      "height": null,
      "justify_content": null,
      "justify_items": null,
      "left": null,
      "margin": null,
      "max_height": null,
      "max_width": null,
      "min_height": null,
      "min_width": null,
      "object_fit": null,
      "object_position": null,
      "order": null,
      "overflow": null,
      "overflow_x": null,
      "overflow_y": null,
      "padding": null,
      "right": null,
      "top": null,
      "visibility": null,
      "width": null
     }
    },
    "9ae571fdf1014acea6874067e2771a41": {
     "model_module": "@jupyter-widgets/controls",
     "model_module_version": "1.5.0",
     "model_name": "ProgressStyleModel",
     "state": {
      "_model_module": "@jupyter-widgets/controls",
      "_model_module_version": "1.5.0",
      "_model_name": "ProgressStyleModel",
      "_view_count": null,
      "_view_module": "@jupyter-widgets/base",
      "_view_module_version": "1.2.0",
      "_view_name": "StyleView",
      "bar_color": null,
      "description_width": ""
     }
    },
    "9bf1d096c0724b799c897fa91cccffec": {
     "model_module": "@jupyter-widgets/controls",
     "model_module_version": "1.5.0",
     "model_name": "DescriptionStyleModel",
     "state": {
      "_model_module": "@jupyter-widgets/controls",
      "_model_module_version": "1.5.0",
      "_model_name": "DescriptionStyleModel",
      "_view_count": null,
      "_view_module": "@jupyter-widgets/base",
      "_view_module_version": "1.2.0",
      "_view_name": "StyleView",
      "description_width": ""
     }
    },
    "a20a9c871ec146c78e054ede0d94f8fe": {
     "model_module": "@jupyter-widgets/controls",
     "model_module_version": "1.5.0",
     "model_name": "DescriptionStyleModel",
     "state": {
      "_model_module": "@jupyter-widgets/controls",
      "_model_module_version": "1.5.0",
      "_model_name": "DescriptionStyleModel",
      "_view_count": null,
      "_view_module": "@jupyter-widgets/base",
      "_view_module_version": "1.2.0",
      "_view_name": "StyleView",
      "description_width": ""
     }
    },
    "a947518e6b754b5d8477b9fc9a64dfd9": {
     "model_module": "@jupyter-widgets/base",
     "model_module_version": "1.2.0",
     "model_name": "LayoutModel",
     "state": {
      "_model_module": "@jupyter-widgets/base",
      "_model_module_version": "1.2.0",
      "_model_name": "LayoutModel",
      "_view_count": null,
      "_view_module": "@jupyter-widgets/base",
      "_view_module_version": "1.2.0",
      "_view_name": "LayoutView",
      "align_content": null,
      "align_items": null,
      "align_self": null,
      "border": null,
      "bottom": null,
      "display": null,
      "flex": null,
      "flex_flow": null,
      "grid_area": null,
      "grid_auto_columns": null,
      "grid_auto_flow": null,
      "grid_auto_rows": null,
      "grid_column": null,
      "grid_gap": null,
      "grid_row": null,
      "grid_template_areas": null,
      "grid_template_columns": null,
      "grid_template_rows": null,
      "height": null,
      "justify_content": null,
      "justify_items": null,
      "left": null,
      "margin": null,
      "max_height": null,
      "max_width": null,
      "min_height": null,
      "min_width": null,
      "object_fit": null,
      "object_position": null,
      "order": null,
      "overflow": null,
      "overflow_x": null,
      "overflow_y": null,
      "padding": null,
      "right": null,
      "top": null,
      "visibility": null,
      "width": null
     }
    },
    "ad826714bb77435293b4f6b49b10821e": {
     "model_module": "@jupyter-widgets/controls",
     "model_module_version": "1.5.0",
     "model_name": "HTMLModel",
     "state": {
      "_dom_classes": [],
      "_model_module": "@jupyter-widgets/controls",
      "_model_module_version": "1.5.0",
      "_model_name": "HTMLModel",
      "_view_count": null,
      "_view_module": "@jupyter-widgets/controls",
      "_view_module_version": "1.5.0",
      "_view_name": "HTMLView",
      "description": "",
      "description_tooltip": null,
      "layout": "IPY_MODEL_88a15762b1d54bc49f2599aef0986395",
      "placeholder": "​",
      "style": "IPY_MODEL_6802da82dd5b4ca3a2c8279441bcb4e7",
      "value": "config.json: 100%"
     }
    },
    "b10b86b7c8084600a6783f5bc54ad161": {
     "model_module": "@jupyter-widgets/base",
     "model_module_version": "1.2.0",
     "model_name": "LayoutModel",
     "state": {
      "_model_module": "@jupyter-widgets/base",
      "_model_module_version": "1.2.0",
      "_model_name": "LayoutModel",
      "_view_count": null,
      "_view_module": "@jupyter-widgets/base",
      "_view_module_version": "1.2.0",
      "_view_name": "LayoutView",
      "align_content": null,
      "align_items": null,
      "align_self": null,
      "border": null,
      "bottom": null,
      "display": null,
      "flex": null,
      "flex_flow": null,
      "grid_area": null,
      "grid_auto_columns": null,
      "grid_auto_flow": null,
      "grid_auto_rows": null,
      "grid_column": null,
      "grid_gap": null,
      "grid_row": null,
      "grid_template_areas": null,
      "grid_template_columns": null,
      "grid_template_rows": null,
      "height": null,
      "justify_content": null,
      "justify_items": null,
      "left": null,
      "margin": null,
      "max_height": null,
      "max_width": null,
      "min_height": null,
      "min_width": null,
      "object_fit": null,
      "object_position": null,
      "order": null,
      "overflow": null,
      "overflow_x": null,
      "overflow_y": null,
      "padding": null,
      "right": null,
      "top": null,
      "visibility": null,
      "width": null
     }
    },
    "b32aa0a5cff341e3b395216a9acb98be": {
     "model_module": "@jupyter-widgets/base",
     "model_module_version": "1.2.0",
     "model_name": "LayoutModel",
     "state": {
      "_model_module": "@jupyter-widgets/base",
      "_model_module_version": "1.2.0",
      "_model_name": "LayoutModel",
      "_view_count": null,
      "_view_module": "@jupyter-widgets/base",
      "_view_module_version": "1.2.0",
      "_view_name": "LayoutView",
      "align_content": null,
      "align_items": null,
      "align_self": null,
      "border": null,
      "bottom": null,
      "display": null,
      "flex": null,
      "flex_flow": null,
      "grid_area": null,
      "grid_auto_columns": null,
      "grid_auto_flow": null,
      "grid_auto_rows": null,
      "grid_column": null,
      "grid_gap": null,
      "grid_row": null,
      "grid_template_areas": null,
      "grid_template_columns": null,
      "grid_template_rows": null,
      "height": null,
      "justify_content": null,
      "justify_items": null,
      "left": null,
      "margin": null,
      "max_height": null,
      "max_width": null,
      "min_height": null,
      "min_width": null,
      "object_fit": null,
      "object_position": null,
      "order": null,
      "overflow": null,
      "overflow_x": null,
      "overflow_y": null,
      "padding": null,
      "right": null,
      "top": null,
      "visibility": null,
      "width": null
     }
    },
    "b74e069784a74fe784c5ddd79c3becda": {
     "model_module": "@jupyter-widgets/controls",
     "model_module_version": "1.5.0",
     "model_name": "HTMLModel",
     "state": {
      "_dom_classes": [],
      "_model_module": "@jupyter-widgets/controls",
      "_model_module_version": "1.5.0",
      "_model_name": "HTMLModel",
      "_view_count": null,
      "_view_module": "@jupyter-widgets/controls",
      "_view_module_version": "1.5.0",
      "_view_name": "HTMLView",
      "description": "",
      "description_tooltip": null,
      "layout": "IPY_MODEL_b10b86b7c8084600a6783f5bc54ad161",
      "placeholder": "​",
      "style": "IPY_MODEL_efaa7ee898b542198e131661be48c173",
      "value": " 792k/792k [00:00&lt;00:00, 21.1MB/s]"
     }
    },
    "c2b305e5b47a437e93983dfbf3d9aa0a": {
     "model_module": "@jupyter-widgets/controls",
     "model_module_version": "1.5.0",
     "model_name": "DescriptionStyleModel",
     "state": {
      "_model_module": "@jupyter-widgets/controls",
      "_model_module_version": "1.5.0",
      "_model_name": "DescriptionStyleModel",
      "_view_count": null,
      "_view_module": "@jupyter-widgets/base",
      "_view_module_version": "1.2.0",
      "_view_name": "StyleView",
      "description_width": ""
     }
    },
    "c7ba71801faf4b7f8ce23985cb4bfbc4": {
     "model_module": "@jupyter-widgets/controls",
     "model_module_version": "1.5.0",
     "model_name": "ProgressStyleModel",
     "state": {
      "_model_module": "@jupyter-widgets/controls",
      "_model_module_version": "1.5.0",
      "_model_name": "ProgressStyleModel",
      "_view_count": null,
      "_view_module": "@jupyter-widgets/base",
      "_view_module_version": "1.2.0",
      "_view_name": "StyleView",
      "bar_color": null,
      "description_width": ""
     }
    },
    "c8939459ad744b3f9fbe45f37872acc1": {
     "model_module": "@jupyter-widgets/base",
     "model_module_version": "1.2.0",
     "model_name": "LayoutModel",
     "state": {
      "_model_module": "@jupyter-widgets/base",
      "_model_module_version": "1.2.0",
      "_model_name": "LayoutModel",
      "_view_count": null,
      "_view_module": "@jupyter-widgets/base",
      "_view_module_version": "1.2.0",
      "_view_name": "LayoutView",
      "align_content": null,
      "align_items": null,
      "align_self": null,
      "border": null,
      "bottom": null,
      "display": null,
      "flex": null,
      "flex_flow": null,
      "grid_area": null,
      "grid_auto_columns": null,
      "grid_auto_flow": null,
      "grid_auto_rows": null,
      "grid_column": null,
      "grid_gap": null,
      "grid_row": null,
      "grid_template_areas": null,
      "grid_template_columns": null,
      "grid_template_rows": null,
      "height": null,
      "justify_content": null,
      "justify_items": null,
      "left": null,
      "margin": null,
      "max_height": null,
      "max_width": null,
      "min_height": null,
      "min_width": null,
      "object_fit": null,
      "object_position": null,
      "order": null,
      "overflow": null,
      "overflow_x": null,
      "overflow_y": null,
      "padding": null,
      "right": null,
      "top": null,
      "visibility": null,
      "width": null
     }
    },
    "c8e2eb5c12c545969b7aa01ada547646": {
     "model_module": "@jupyter-widgets/base",
     "model_module_version": "1.2.0",
     "model_name": "LayoutModel",
     "state": {
      "_model_module": "@jupyter-widgets/base",
      "_model_module_version": "1.2.0",
      "_model_name": "LayoutModel",
      "_view_count": null,
      "_view_module": "@jupyter-widgets/base",
      "_view_module_version": "1.2.0",
      "_view_name": "LayoutView",
      "align_content": null,
      "align_items": null,
      "align_self": null,
      "border": null,
      "bottom": null,
      "display": null,
      "flex": null,
      "flex_flow": null,
      "grid_area": null,
      "grid_auto_columns": null,
      "grid_auto_flow": null,
      "grid_auto_rows": null,
      "grid_column": null,
      "grid_gap": null,
      "grid_row": null,
      "grid_template_areas": null,
      "grid_template_columns": null,
      "grid_template_rows": null,
      "height": null,
      "justify_content": null,
      "justify_items": null,
      "left": null,
      "margin": null,
      "max_height": null,
      "max_width": null,
      "min_height": null,
      "min_width": null,
      "object_fit": null,
      "object_position": null,
      "order": null,
      "overflow": null,
      "overflow_x": null,
      "overflow_y": null,
      "padding": null,
      "right": null,
      "top": null,
      "visibility": null,
      "width": null
     }
    },
    "c918ee95d83d4f468731ed7f037b5f8c": {
     "model_module": "@jupyter-widgets/base",
     "model_module_version": "1.2.0",
     "model_name": "LayoutModel",
     "state": {
      "_model_module": "@jupyter-widgets/base",
      "_model_module_version": "1.2.0",
      "_model_name": "LayoutModel",
      "_view_count": null,
      "_view_module": "@jupyter-widgets/base",
      "_view_module_version": "1.2.0",
      "_view_name": "LayoutView",
      "align_content": null,
      "align_items": null,
      "align_self": null,
      "border": null,
      "bottom": null,
      "display": null,
      "flex": null,
      "flex_flow": null,
      "grid_area": null,
      "grid_auto_columns": null,
      "grid_auto_flow": null,
      "grid_auto_rows": null,
      "grid_column": null,
      "grid_gap": null,
      "grid_row": null,
      "grid_template_areas": null,
      "grid_template_columns": null,
      "grid_template_rows": null,
      "height": null,
      "justify_content": null,
      "justify_items": null,
      "left": null,
      "margin": null,
      "max_height": null,
      "max_width": null,
      "min_height": null,
      "min_width": null,
      "object_fit": null,
      "object_position": null,
      "order": null,
      "overflow": null,
      "overflow_x": null,
      "overflow_y": null,
      "padding": null,
      "right": null,
      "top": null,
      "visibility": null,
      "width": null
     }
    },
    "d07daf91f7a6453bb881617adaf01c54": {
     "model_module": "@jupyter-widgets/controls",
     "model_module_version": "1.5.0",
     "model_name": "FloatProgressModel",
     "state": {
      "_dom_classes": [],
      "_model_module": "@jupyter-widgets/controls",
      "_model_module_version": "1.5.0",
      "_model_name": "FloatProgressModel",
      "_view_count": null,
      "_view_module": "@jupyter-widgets/controls",
      "_view_module_version": "1.5.0",
      "_view_name": "ProgressView",
      "bar_style": "success",
      "description": "",
      "description_tooltip": null,
      "layout": "IPY_MODEL_81c5d00a6a94496382687659a7359428",
      "max": 990345061,
      "min": 0,
      "orientation": "horizontal",
      "style": "IPY_MODEL_c7ba71801faf4b7f8ce23985cb4bfbc4",
      "value": 990345061
     }
    },
    "d11b0d47016b4cc09348474d9a990724": {
     "model_module": "@jupyter-widgets/base",
     "model_module_version": "1.2.0",
     "model_name": "LayoutModel",
     "state": {
      "_model_module": "@jupyter-widgets/base",
      "_model_module_version": "1.2.0",
      "_model_name": "LayoutModel",
      "_view_count": null,
      "_view_module": "@jupyter-widgets/base",
      "_view_module_version": "1.2.0",
      "_view_name": "LayoutView",
      "align_content": null,
      "align_items": null,
      "align_self": null,
      "border": null,
      "bottom": null,
      "display": null,
      "flex": null,
      "flex_flow": null,
      "grid_area": null,
      "grid_auto_columns": null,
      "grid_auto_flow": null,
      "grid_auto_rows": null,
      "grid_column": null,
      "grid_gap": null,
      "grid_row": null,
      "grid_template_areas": null,
      "grid_template_columns": null,
      "grid_template_rows": null,
      "height": null,
      "justify_content": null,
      "justify_items": null,
      "left": null,
      "margin": null,
      "max_height": null,
      "max_width": null,
      "min_height": null,
      "min_width": null,
      "object_fit": null,
      "object_position": null,
      "order": null,
      "overflow": null,
      "overflow_x": null,
      "overflow_y": null,
      "padding": null,
      "right": null,
      "top": null,
      "visibility": null,
      "width": null
     }
    },
    "d631112412b049dca363cc5f53bce4ac": {
     "model_module": "@jupyter-widgets/controls",
     "model_module_version": "1.5.0",
     "model_name": "HTMLModel",
     "state": {
      "_dom_classes": [],
      "_model_module": "@jupyter-widgets/controls",
      "_model_module_version": "1.5.0",
      "_model_name": "HTMLModel",
      "_view_count": null,
      "_view_module": "@jupyter-widgets/controls",
      "_view_module_version": "1.5.0",
      "_view_name": "HTMLView",
      "description": "",
      "description_tooltip": null,
      "layout": "IPY_MODEL_c918ee95d83d4f468731ed7f037b5f8c",
      "placeholder": "​",
      "style": "IPY_MODEL_5e2af3e18f984bc1add24891a469fd7e",
      "value": "special_tokens_map.json: 100%"
     }
    },
    "d926196ae4324ac9a2ade3a5040b7512": {
     "model_module": "@jupyter-widgets/controls",
     "model_module_version": "1.5.0",
     "model_name": "FloatProgressModel",
     "state": {
      "_dom_classes": [],
      "_model_module": "@jupyter-widgets/controls",
      "_model_module_version": "1.5.0",
      "_model_name": "FloatProgressModel",
      "_view_count": null,
      "_view_module": "@jupyter-widgets/controls",
      "_view_module_version": "1.5.0",
      "_view_name": "ProgressView",
      "bar_style": "success",
      "description": "",
      "description_tooltip": null,
      "layout": "IPY_MODEL_a947518e6b754b5d8477b9fc9a64dfd9",
      "max": 2537,
      "min": 0,
      "orientation": "horizontal",
      "style": "IPY_MODEL_7c973882a8754a3db5c93d9c805f6a33",
      "value": 2537
     }
    },
    "dc8fa9e11d8243ca80b92301341793dd": {
     "model_module": "@jupyter-widgets/controls",
     "model_module_version": "1.5.0",
     "model_name": "HTMLModel",
     "state": {
      "_dom_classes": [],
      "_model_module": "@jupyter-widgets/controls",
      "_model_module_version": "1.5.0",
      "_model_name": "HTMLModel",
      "_view_count": null,
      "_view_module": "@jupyter-widgets/controls",
      "_view_module_version": "1.5.0",
      "_view_name": "HTMLView",
      "description": "",
      "description_tooltip": null,
      "layout": "IPY_MODEL_0ab843cecc1849bea8f013852c7c6756",
      "placeholder": "​",
      "style": "IPY_MODEL_c2b305e5b47a437e93983dfbf3d9aa0a",
      "value": " 147/147 [00:00&lt;00:00, 2.43kB/s]"
     }
    },
    "e3176d7bcfb04d11beb134d5d23d9512": {
     "model_module": "@jupyter-widgets/base",
     "model_module_version": "1.2.0",
     "model_name": "LayoutModel",
     "state": {
      "_model_module": "@jupyter-widgets/base",
      "_model_module_version": "1.2.0",
      "_model_name": "LayoutModel",
      "_view_count": null,
      "_view_module": "@jupyter-widgets/base",
      "_view_module_version": "1.2.0",
      "_view_name": "LayoutView",
      "align_content": null,
      "align_items": null,
      "align_self": null,
      "border": null,
      "bottom": null,
      "display": null,
      "flex": null,
      "flex_flow": null,
      "grid_area": null,
      "grid_auto_columns": null,
      "grid_auto_flow": null,
      "grid_auto_rows": null,
      "grid_column": null,
      "grid_gap": null,
      "grid_row": null,
      "grid_template_areas": null,
      "grid_template_columns": null,
      "grid_template_rows": null,
      "height": null,
      "justify_content": null,
      "justify_items": null,
      "left": null,
      "margin": null,
      "max_height": null,
      "max_width": null,
      "min_height": null,
      "min_width": null,
      "object_fit": null,
      "object_position": null,
      "order": null,
      "overflow": null,
      "overflow_x": null,
      "overflow_y": null,
      "padding": null,
      "right": null,
      "top": null,
      "visibility": null,
      "width": null
     }
    },
    "e335407d06214bf2978e3b68fe216ed7": {
     "model_module": "@jupyter-widgets/base",
     "model_module_version": "1.2.0",
     "model_name": "LayoutModel",
     "state": {
      "_model_module": "@jupyter-widgets/base",
      "_model_module_version": "1.2.0",
      "_model_name": "LayoutModel",
      "_view_count": null,
      "_view_module": "@jupyter-widgets/base",
      "_view_module_version": "1.2.0",
      "_view_name": "LayoutView",
      "align_content": null,
      "align_items": null,
      "align_self": null,
      "border": null,
      "bottom": null,
      "display": null,
      "flex": null,
      "flex_flow": null,
      "grid_area": null,
      "grid_auto_columns": null,
      "grid_auto_flow": null,
      "grid_auto_rows": null,
      "grid_column": null,
      "grid_gap": null,
      "grid_row": null,
      "grid_template_areas": null,
      "grid_template_columns": null,
      "grid_template_rows": null,
      "height": null,
      "justify_content": null,
      "justify_items": null,
      "left": null,
      "margin": null,
      "max_height": null,
      "max_width": null,
      "min_height": null,
      "min_width": null,
      "object_fit": null,
      "object_position": null,
      "order": null,
      "overflow": null,
      "overflow_x": null,
      "overflow_y": null,
      "padding": null,
      "right": null,
      "top": null,
      "visibility": null,
      "width": null
     }
    },
    "e770cd0f4e954104924235a5e394fc7f": {
     "model_module": "@jupyter-widgets/base",
     "model_module_version": "1.2.0",
     "model_name": "LayoutModel",
     "state": {
      "_model_module": "@jupyter-widgets/base",
      "_model_module_version": "1.2.0",
      "_model_name": "LayoutModel",
      "_view_count": null,
      "_view_module": "@jupyter-widgets/base",
      "_view_module_version": "1.2.0",
      "_view_name": "LayoutView",
      "align_content": null,
      "align_items": null,
      "align_self": null,
      "border": null,
      "bottom": null,
      "display": null,
      "flex": null,
      "flex_flow": null,
      "grid_area": null,
      "grid_auto_columns": null,
      "grid_auto_flow": null,
      "grid_auto_rows": null,
      "grid_column": null,
      "grid_gap": null,
      "grid_row": null,
      "grid_template_areas": null,
      "grid_template_columns": null,
      "grid_template_rows": null,
      "height": null,
      "justify_content": null,
      "justify_items": null,
      "left": null,
      "margin": null,
      "max_height": null,
      "max_width": null,
      "min_height": null,
      "min_width": null,
      "object_fit": null,
      "object_position": null,
      "order": null,
      "overflow": null,
      "overflow_x": null,
      "overflow_y": null,
      "padding": null,
      "right": null,
      "top": null,
      "visibility": null,
      "width": null
     }
    },
    "ec0d82aafd164f519937e8686e94e1c6": {
     "model_module": "@jupyter-widgets/controls",
     "model_module_version": "1.5.0",
     "model_name": "DescriptionStyleModel",
     "state": {
      "_model_module": "@jupyter-widgets/controls",
      "_model_module_version": "1.5.0",
      "_model_name": "DescriptionStyleModel",
      "_view_count": null,
      "_view_module": "@jupyter-widgets/base",
      "_view_module_version": "1.2.0",
      "_view_name": "StyleView",
      "description_width": ""
     }
    },
    "efaa7ee898b542198e131661be48c173": {
     "model_module": "@jupyter-widgets/controls",
     "model_module_version": "1.5.0",
     "model_name": "DescriptionStyleModel",
     "state": {
      "_model_module": "@jupyter-widgets/controls",
      "_model_module_version": "1.5.0",
      "_model_name": "DescriptionStyleModel",
      "_view_count": null,
      "_view_module": "@jupyter-widgets/base",
      "_view_module_version": "1.2.0",
      "_view_name": "StyleView",
      "description_width": ""
     }
    },
    "f1de24a3118b4a8d91143d64b78f2640": {
     "model_module": "@jupyter-widgets/base",
     "model_module_version": "1.2.0",
     "model_name": "LayoutModel",
     "state": {
      "_model_module": "@jupyter-widgets/base",
      "_model_module_version": "1.2.0",
      "_model_name": "LayoutModel",
      "_view_count": null,
      "_view_module": "@jupyter-widgets/base",
      "_view_module_version": "1.2.0",
      "_view_name": "LayoutView",
      "align_content": null,
      "align_items": null,
      "align_self": null,
      "border": null,
      "bottom": null,
      "display": null,
      "flex": null,
      "flex_flow": null,
      "grid_area": null,
      "grid_auto_columns": null,
      "grid_auto_flow": null,
      "grid_auto_rows": null,
      "grid_column": null,
      "grid_gap": null,
      "grid_row": null,
      "grid_template_areas": null,
      "grid_template_columns": null,
      "grid_template_rows": null,
      "height": null,
      "justify_content": null,
      "justify_items": null,
      "left": null,
      "margin": null,
      "max_height": null,
      "max_width": null,
      "min_height": null,
      "min_width": null,
      "object_fit": null,
      "object_position": null,
      "order": null,
      "overflow": null,
      "overflow_x": null,
      "overflow_y": null,
      "padding": null,
      "right": null,
      "top": null,
      "visibility": null,
      "width": null
     }
    },
    "f27abe1313904ba3907ccb01155d9fcb": {
     "model_module": "@jupyter-widgets/controls",
     "model_module_version": "1.5.0",
     "model_name": "HTMLModel",
     "state": {
      "_dom_classes": [],
      "_model_module": "@jupyter-widgets/controls",
      "_model_module_version": "1.5.0",
      "_model_name": "HTMLModel",
      "_view_count": null,
      "_view_module": "@jupyter-widgets/controls",
      "_view_module_version": "1.5.0",
      "_view_name": "HTMLView",
      "description": "",
      "description_tooltip": null,
      "layout": "IPY_MODEL_e335407d06214bf2978e3b68fe216ed7",
      "placeholder": "​",
      "style": "IPY_MODEL_65f53194293b46c0a39de7e085603fe2",
      "value": " 2.54k/2.54k [00:00&lt;00:00, 81.3kB/s]"
     }
    },
    "f397779852d1451da3763fb482d5f728": {
     "model_module": "@jupyter-widgets/controls",
     "model_module_version": "1.5.0",
     "model_name": "HBoxModel",
     "state": {
      "_dom_classes": [],
      "_model_module": "@jupyter-widgets/controls",
      "_model_module_version": "1.5.0",
      "_model_name": "HBoxModel",
      "_view_count": null,
      "_view_module": "@jupyter-widgets/controls",
      "_view_module_version": "1.5.0",
      "_view_name": "HBoxView",
      "box_style": "",
      "children": [
       "IPY_MODEL_360f4832873d48449ed78b411ddba64d",
       "IPY_MODEL_3ed9c24ff54c4077aba491b0dc857c2a",
       "IPY_MODEL_13f9414ab57c4bb18950bd303423796f"
      ],
      "layout": "IPY_MODEL_e3176d7bcfb04d11beb134d5d23d9512"
     }
    },
    "f52b8b0b78924dd18f586de30bfc5c1a": {
     "model_module": "@jupyter-widgets/controls",
     "model_module_version": "1.5.0",
     "model_name": "HTMLModel",
     "state": {
      "_dom_classes": [],
      "_model_module": "@jupyter-widgets/controls",
      "_model_module_version": "1.5.0",
      "_model_name": "HTMLModel",
      "_view_count": null,
      "_view_module": "@jupyter-widgets/controls",
      "_view_module_version": "1.5.0",
      "_view_name": "HTMLView",
      "description": "",
      "description_tooltip": null,
      "layout": "IPY_MODEL_08cd44d5e26643878fe10af16251ec0b",
      "placeholder": "​",
      "style": "IPY_MODEL_9bf1d096c0724b799c897fa91cccffec",
      "value": " 2.20k/2.20k [00:00&lt;00:00, 33.4kB/s]"
     }
    },
    "ff29014a35b843fea3abe6b3a943d3bc": {
     "model_module": "@jupyter-widgets/controls",
     "model_module_version": "1.5.0",
     "model_name": "HTMLModel",
     "state": {
      "_dom_classes": [],
      "_model_module": "@jupyter-widgets/controls",
      "_model_module_version": "1.5.0",
      "_model_name": "HTMLModel",
      "_view_count": null,
      "_view_module": "@jupyter-widgets/controls",
      "_view_module_version": "1.5.0",
      "_view_name": "HTMLView",
      "description": "",
      "description_tooltip": null,
      "layout": "IPY_MODEL_7ff283633b43443d92f66f9e13ce7ce6",
      "placeholder": "​",
      "style": "IPY_MODEL_5eee05c200bf41a1af1063dc6af4315d",
      "value": "model.safetensors: 100%"
     }
    }
   }
  }
 },
 "nbformat": 4,
 "nbformat_minor": 4
}
